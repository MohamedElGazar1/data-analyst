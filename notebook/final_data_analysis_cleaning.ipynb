{
 "cells": [
  {
   "cell_type": "code",
   "execution_count": null,
   "metadata": {
    "id": "lSJZdOBUE6vz"
   },
   "outputs": [],
   "source": [
    "import pandas as pd\n"
   ]
  },
  {
   "cell_type": "code",
   "execution_count": null,
   "metadata": {
    "colab": {
     "base_uri": "https://localhost:8080/",
     "height": 634
    },
    "executionInfo": {
     "elapsed": 330,
     "status": "ok",
     "timestamp": 1748582110296,
     "user": {
      "displayName": "Mohamedashraf Elgazar",
      "userId": "00875518360043549608"
     },
     "user_tz": -180
    },
    "id": "y051b5sibHQu",
    "outputId": "df658b29-22d7-4062-aa35-ebca7a17c09f"
   },
   "outputs": [
    {
     "name": "stderr",
     "output_type": "stream",
     "text": [
      "<ipython-input-5-e11e6f37a873>:1: DtypeWarning: Columns (0,2,3,4,5,7,8,11,14,15,16,17,19,21) have mixed types. Specify dtype option on import or set low_memory=False.\n",
      "  df2020 = pd.read_csv(\"/content/IT Salary   2020.csv\")\n"
     ]
    },
    {
     "data": {
      "application/vnd.google.colaboratory.intrinsic+json": {
       "type": "dataframe",
       "variable_name": "df2020"
      },
      "text/html": [
       "\n",
       "  <div id=\"df-be8ec408-e60c-4270-9fb9-b04a7dc9190b\" class=\"colab-df-container\">\n",
       "    <div>\n",
       "<style scoped>\n",
       "    .dataframe tbody tr th:only-of-type {\n",
       "        vertical-align: middle;\n",
       "    }\n",
       "\n",
       "    .dataframe tbody tr th {\n",
       "        vertical-align: top;\n",
       "    }\n",
       "\n",
       "    .dataframe thead th {\n",
       "        text-align: right;\n",
       "    }\n",
       "</style>\n",
       "<table border=\"1\" class=\"dataframe\">\n",
       "  <thead>\n",
       "    <tr style=\"text-align: right;\">\n",
       "      <th></th>\n",
       "      <th>Timestamp</th>\n",
       "      <th>Age</th>\n",
       "      <th>Gender</th>\n",
       "      <th>City</th>\n",
       "      <th>Position</th>\n",
       "      <th>Total years of experience</th>\n",
       "      <th>Unnamed: 6</th>\n",
       "      <th>Seniority level</th>\n",
       "      <th>main technology</th>\n",
       "      <th>Unnamed: 9</th>\n",
       "      <th>...</th>\n",
       "      <th>Unnamed: 12</th>\n",
       "      <th>Unnamed: 13</th>\n",
       "      <th>Number of vacation days</th>\n",
       "      <th>Employment status</th>\n",
       "      <th>Contract duration</th>\n",
       "      <th>Main language at work</th>\n",
       "      <th>Unnamed: 18</th>\n",
       "      <th>Company type</th>\n",
       "      <th>Unnamed: 20</th>\n",
       "      <th>Company business sector</th>\n",
       "    </tr>\n",
       "  </thead>\n",
       "  <tbody>\n",
       "    <tr>\n",
       "      <th>0</th>\n",
       "      <td>11/24/2020</td>\n",
       "      <td>26.0</td>\n",
       "      <td>Male</td>\n",
       "      <td>Munich</td>\n",
       "      <td>Software Engineer</td>\n",
       "      <td>5</td>\n",
       "      <td>NaN</td>\n",
       "      <td>Senior</td>\n",
       "      <td>TypeScript</td>\n",
       "      <td>NaN</td>\n",
       "      <td>...</td>\n",
       "      <td>NaN</td>\n",
       "      <td>NaN</td>\n",
       "      <td>30</td>\n",
       "      <td>Full-time employee</td>\n",
       "      <td>Unlimited contract</td>\n",
       "      <td>English</td>\n",
       "      <td>NaN</td>\n",
       "      <td>Product</td>\n",
       "      <td>NaN</td>\n",
       "      <td>Tourism</td>\n",
       "    </tr>\n",
       "    <tr>\n",
       "      <th>1</th>\n",
       "      <td>11/24/2020</td>\n",
       "      <td>26.0</td>\n",
       "      <td>Male</td>\n",
       "      <td>Berlin</td>\n",
       "      <td>Backend Developer</td>\n",
       "      <td>7</td>\n",
       "      <td>NaN</td>\n",
       "      <td>Senior</td>\n",
       "      <td>Ruby</td>\n",
       "      <td>NaN</td>\n",
       "      <td>...</td>\n",
       "      <td>NaN</td>\n",
       "      <td>NaN</td>\n",
       "      <td>28</td>\n",
       "      <td>Full-time employee</td>\n",
       "      <td>Unlimited contract</td>\n",
       "      <td>English</td>\n",
       "      <td>NaN</td>\n",
       "      <td>Product</td>\n",
       "      <td>NaN</td>\n",
       "      <td>Scientific Activities</td>\n",
       "    </tr>\n",
       "    <tr>\n",
       "      <th>2</th>\n",
       "      <td>11/24/2020</td>\n",
       "      <td>29.0</td>\n",
       "      <td>Male</td>\n",
       "      <td>Berlin</td>\n",
       "      <td>Software Engineer</td>\n",
       "      <td>12</td>\n",
       "      <td>NaN</td>\n",
       "      <td>Lead</td>\n",
       "      <td>Javascript / Typescript</td>\n",
       "      <td>NaN</td>\n",
       "      <td>...</td>\n",
       "      <td>NaN</td>\n",
       "      <td>NaN</td>\n",
       "      <td>30</td>\n",
       "      <td>Self-employed (freelancer)</td>\n",
       "      <td>Temporary contract</td>\n",
       "      <td>English</td>\n",
       "      <td>NaN</td>\n",
       "      <td>Product</td>\n",
       "      <td>NaN</td>\n",
       "      <td>NaN</td>\n",
       "    </tr>\n",
       "    <tr>\n",
       "      <th>3</th>\n",
       "      <td>11/24/2020</td>\n",
       "      <td>28.0</td>\n",
       "      <td>Male</td>\n",
       "      <td>Berlin</td>\n",
       "      <td>Frontend Developer</td>\n",
       "      <td>4</td>\n",
       "      <td>NaN</td>\n",
       "      <td>Junior</td>\n",
       "      <td>Javascript</td>\n",
       "      <td>NaN</td>\n",
       "      <td>...</td>\n",
       "      <td>NaN</td>\n",
       "      <td>NaN</td>\n",
       "      <td>24</td>\n",
       "      <td>Full-time employee</td>\n",
       "      <td>Unlimited contract</td>\n",
       "      <td>English</td>\n",
       "      <td>NaN</td>\n",
       "      <td>Startup</td>\n",
       "      <td>NaN</td>\n",
       "      <td>Transport</td>\n",
       "    </tr>\n",
       "    <tr>\n",
       "      <th>4</th>\n",
       "      <td>11/24/2020</td>\n",
       "      <td>37.0</td>\n",
       "      <td>Male</td>\n",
       "      <td>Berlin</td>\n",
       "      <td>Backend Developer</td>\n",
       "      <td>17</td>\n",
       "      <td>NaN</td>\n",
       "      <td>Senior</td>\n",
       "      <td>C# .NET</td>\n",
       "      <td>NaN</td>\n",
       "      <td>...</td>\n",
       "      <td>NaN</td>\n",
       "      <td>NaN</td>\n",
       "      <td>29</td>\n",
       "      <td>Full-time employee</td>\n",
       "      <td>Unlimited contract</td>\n",
       "      <td>English</td>\n",
       "      <td>NaN</td>\n",
       "      <td>Product</td>\n",
       "      <td>NaN</td>\n",
       "      <td>Automotive</td>\n",
       "    </tr>\n",
       "    <tr>\n",
       "      <th>...</th>\n",
       "      <td>...</td>\n",
       "      <td>...</td>\n",
       "      <td>...</td>\n",
       "      <td>...</td>\n",
       "      <td>...</td>\n",
       "      <td>...</td>\n",
       "      <td>...</td>\n",
       "      <td>...</td>\n",
       "      <td>...</td>\n",
       "      <td>...</td>\n",
       "      <td>...</td>\n",
       "      <td>...</td>\n",
       "      <td>...</td>\n",
       "      <td>...</td>\n",
       "      <td>...</td>\n",
       "      <td>...</td>\n",
       "      <td>...</td>\n",
       "      <td>...</td>\n",
       "      <td>...</td>\n",
       "      <td>...</td>\n",
       "      <td>...</td>\n",
       "    </tr>\n",
       "    <tr>\n",
       "      <th>130273</th>\n",
       "      <td>NaN</td>\n",
       "      <td>NaN</td>\n",
       "      <td>NaN</td>\n",
       "      <td>NaN</td>\n",
       "      <td>NaN</td>\n",
       "      <td>NaN</td>\n",
       "      <td>NaN</td>\n",
       "      <td>NaN</td>\n",
       "      <td>NaN</td>\n",
       "      <td>NaN</td>\n",
       "      <td>...</td>\n",
       "      <td>NaN</td>\n",
       "      <td>NaN</td>\n",
       "      <td>NaN</td>\n",
       "      <td>NaN</td>\n",
       "      <td>NaN</td>\n",
       "      <td>NaN</td>\n",
       "      <td>NaN</td>\n",
       "      <td>NaN</td>\n",
       "      <td>NaN</td>\n",
       "      <td>NaN</td>\n",
       "    </tr>\n",
       "    <tr>\n",
       "      <th>130274</th>\n",
       "      <td>NaN</td>\n",
       "      <td>NaN</td>\n",
       "      <td>NaN</td>\n",
       "      <td>NaN</td>\n",
       "      <td>NaN</td>\n",
       "      <td>NaN</td>\n",
       "      <td>NaN</td>\n",
       "      <td>NaN</td>\n",
       "      <td>NaN</td>\n",
       "      <td>NaN</td>\n",
       "      <td>...</td>\n",
       "      <td>NaN</td>\n",
       "      <td>NaN</td>\n",
       "      <td>NaN</td>\n",
       "      <td>NaN</td>\n",
       "      <td>NaN</td>\n",
       "      <td>NaN</td>\n",
       "      <td>NaN</td>\n",
       "      <td>NaN</td>\n",
       "      <td>NaN</td>\n",
       "      <td>NaN</td>\n",
       "    </tr>\n",
       "    <tr>\n",
       "      <th>130275</th>\n",
       "      <td>NaN</td>\n",
       "      <td>NaN</td>\n",
       "      <td>NaN</td>\n",
       "      <td>NaN</td>\n",
       "      <td>NaN</td>\n",
       "      <td>NaN</td>\n",
       "      <td>NaN</td>\n",
       "      <td>NaN</td>\n",
       "      <td>NaN</td>\n",
       "      <td>NaN</td>\n",
       "      <td>...</td>\n",
       "      <td>NaN</td>\n",
       "      <td>NaN</td>\n",
       "      <td>NaN</td>\n",
       "      <td>NaN</td>\n",
       "      <td>NaN</td>\n",
       "      <td>NaN</td>\n",
       "      <td>NaN</td>\n",
       "      <td>NaN</td>\n",
       "      <td>NaN</td>\n",
       "      <td>NaN</td>\n",
       "    </tr>\n",
       "    <tr>\n",
       "      <th>130276</th>\n",
       "      <td>NaN</td>\n",
       "      <td>NaN</td>\n",
       "      <td>NaN</td>\n",
       "      <td>NaN</td>\n",
       "      <td>NaN</td>\n",
       "      <td>NaN</td>\n",
       "      <td>NaN</td>\n",
       "      <td>NaN</td>\n",
       "      <td>NaN</td>\n",
       "      <td>NaN</td>\n",
       "      <td>...</td>\n",
       "      <td>NaN</td>\n",
       "      <td>NaN</td>\n",
       "      <td>NaN</td>\n",
       "      <td>NaN</td>\n",
       "      <td>NaN</td>\n",
       "      <td>NaN</td>\n",
       "      <td>NaN</td>\n",
       "      <td>NaN</td>\n",
       "      <td>NaN</td>\n",
       "      <td>NaN</td>\n",
       "    </tr>\n",
       "    <tr>\n",
       "      <th>130277</th>\n",
       "      <td>NaN</td>\n",
       "      <td>NaN</td>\n",
       "      <td>NaN</td>\n",
       "      <td>NaN</td>\n",
       "      <td>NaN</td>\n",
       "      <td>NaN</td>\n",
       "      <td>NaN</td>\n",
       "      <td>NaN</td>\n",
       "      <td>NaN</td>\n",
       "      <td>NaN</td>\n",
       "      <td>...</td>\n",
       "      <td>NaN</td>\n",
       "      <td>NaN</td>\n",
       "      <td>NaN</td>\n",
       "      <td>NaN</td>\n",
       "      <td>NaN</td>\n",
       "      <td>NaN</td>\n",
       "      <td>NaN</td>\n",
       "      <td>NaN</td>\n",
       "      <td>NaN</td>\n",
       "      <td>NaN</td>\n",
       "    </tr>\n",
       "  </tbody>\n",
       "</table>\n",
       "<p>130278 rows × 22 columns</p>\n",
       "</div>\n",
       "    <div class=\"colab-df-buttons\">\n",
       "\n",
       "  <div class=\"colab-df-container\">\n",
       "    <button class=\"colab-df-convert\" onclick=\"convertToInteractive('df-be8ec408-e60c-4270-9fb9-b04a7dc9190b')\"\n",
       "            title=\"Convert this dataframe to an interactive table.\"\n",
       "            style=\"display:none;\">\n",
       "\n",
       "  <svg xmlns=\"http://www.w3.org/2000/svg\" height=\"24px\" viewBox=\"0 -960 960 960\">\n",
       "    <path d=\"M120-120v-720h720v720H120Zm60-500h600v-160H180v160Zm220 220h160v-160H400v160Zm0 220h160v-160H400v160ZM180-400h160v-160H180v160Zm440 0h160v-160H620v160ZM180-180h160v-160H180v160Zm440 0h160v-160H620v160Z\"/>\n",
       "  </svg>\n",
       "    </button>\n",
       "\n",
       "  <style>\n",
       "    .colab-df-container {\n",
       "      display:flex;\n",
       "      gap: 12px;\n",
       "    }\n",
       "\n",
       "    .colab-df-convert {\n",
       "      background-color: #E8F0FE;\n",
       "      border: none;\n",
       "      border-radius: 50%;\n",
       "      cursor: pointer;\n",
       "      display: none;\n",
       "      fill: #1967D2;\n",
       "      height: 32px;\n",
       "      padding: 0 0 0 0;\n",
       "      width: 32px;\n",
       "    }\n",
       "\n",
       "    .colab-df-convert:hover {\n",
       "      background-color: #E2EBFA;\n",
       "      box-shadow: 0px 1px 2px rgba(60, 64, 67, 0.3), 0px 1px 3px 1px rgba(60, 64, 67, 0.15);\n",
       "      fill: #174EA6;\n",
       "    }\n",
       "\n",
       "    .colab-df-buttons div {\n",
       "      margin-bottom: 4px;\n",
       "    }\n",
       "\n",
       "    [theme=dark] .colab-df-convert {\n",
       "      background-color: #3B4455;\n",
       "      fill: #D2E3FC;\n",
       "    }\n",
       "\n",
       "    [theme=dark] .colab-df-convert:hover {\n",
       "      background-color: #434B5C;\n",
       "      box-shadow: 0px 1px 3px 1px rgba(0, 0, 0, 0.15);\n",
       "      filter: drop-shadow(0px 1px 2px rgba(0, 0, 0, 0.3));\n",
       "      fill: #FFFFFF;\n",
       "    }\n",
       "  </style>\n",
       "\n",
       "    <script>\n",
       "      const buttonEl =\n",
       "        document.querySelector('#df-be8ec408-e60c-4270-9fb9-b04a7dc9190b button.colab-df-convert');\n",
       "      buttonEl.style.display =\n",
       "        google.colab.kernel.accessAllowed ? 'block' : 'none';\n",
       "\n",
       "      async function convertToInteractive(key) {\n",
       "        const element = document.querySelector('#df-be8ec408-e60c-4270-9fb9-b04a7dc9190b');\n",
       "        const dataTable =\n",
       "          await google.colab.kernel.invokeFunction('convertToInteractive',\n",
       "                                                    [key], {});\n",
       "        if (!dataTable) return;\n",
       "\n",
       "        const docLinkHtml = 'Like what you see? Visit the ' +\n",
       "          '<a target=\"_blank\" href=https://colab.research.google.com/notebooks/data_table.ipynb>data table notebook</a>'\n",
       "          + ' to learn more about interactive tables.';\n",
       "        element.innerHTML = '';\n",
       "        dataTable['output_type'] = 'display_data';\n",
       "        await google.colab.output.renderOutput(dataTable, element);\n",
       "        const docLink = document.createElement('div');\n",
       "        docLink.innerHTML = docLinkHtml;\n",
       "        element.appendChild(docLink);\n",
       "      }\n",
       "    </script>\n",
       "  </div>\n",
       "\n",
       "\n",
       "    <div id=\"df-4427d3e9-178f-4620-a9f4-19d122887e31\">\n",
       "      <button class=\"colab-df-quickchart\" onclick=\"quickchart('df-4427d3e9-178f-4620-a9f4-19d122887e31')\"\n",
       "                title=\"Suggest charts\"\n",
       "                style=\"display:none;\">\n",
       "\n",
       "<svg xmlns=\"http://www.w3.org/2000/svg\" height=\"24px\"viewBox=\"0 0 24 24\"\n",
       "     width=\"24px\">\n",
       "    <g>\n",
       "        <path d=\"M19 3H5c-1.1 0-2 .9-2 2v14c0 1.1.9 2 2 2h14c1.1 0 2-.9 2-2V5c0-1.1-.9-2-2-2zM9 17H7v-7h2v7zm4 0h-2V7h2v10zm4 0h-2v-4h2v4z\"/>\n",
       "    </g>\n",
       "</svg>\n",
       "      </button>\n",
       "\n",
       "<style>\n",
       "  .colab-df-quickchart {\n",
       "      --bg-color: #E8F0FE;\n",
       "      --fill-color: #1967D2;\n",
       "      --hover-bg-color: #E2EBFA;\n",
       "      --hover-fill-color: #174EA6;\n",
       "      --disabled-fill-color: #AAA;\n",
       "      --disabled-bg-color: #DDD;\n",
       "  }\n",
       "\n",
       "  [theme=dark] .colab-df-quickchart {\n",
       "      --bg-color: #3B4455;\n",
       "      --fill-color: #D2E3FC;\n",
       "      --hover-bg-color: #434B5C;\n",
       "      --hover-fill-color: #FFFFFF;\n",
       "      --disabled-bg-color: #3B4455;\n",
       "      --disabled-fill-color: #666;\n",
       "  }\n",
       "\n",
       "  .colab-df-quickchart {\n",
       "    background-color: var(--bg-color);\n",
       "    border: none;\n",
       "    border-radius: 50%;\n",
       "    cursor: pointer;\n",
       "    display: none;\n",
       "    fill: var(--fill-color);\n",
       "    height: 32px;\n",
       "    padding: 0;\n",
       "    width: 32px;\n",
       "  }\n",
       "\n",
       "  .colab-df-quickchart:hover {\n",
       "    background-color: var(--hover-bg-color);\n",
       "    box-shadow: 0 1px 2px rgba(60, 64, 67, 0.3), 0 1px 3px 1px rgba(60, 64, 67, 0.15);\n",
       "    fill: var(--button-hover-fill-color);\n",
       "  }\n",
       "\n",
       "  .colab-df-quickchart-complete:disabled,\n",
       "  .colab-df-quickchart-complete:disabled:hover {\n",
       "    background-color: var(--disabled-bg-color);\n",
       "    fill: var(--disabled-fill-color);\n",
       "    box-shadow: none;\n",
       "  }\n",
       "\n",
       "  .colab-df-spinner {\n",
       "    border: 2px solid var(--fill-color);\n",
       "    border-color: transparent;\n",
       "    border-bottom-color: var(--fill-color);\n",
       "    animation:\n",
       "      spin 1s steps(1) infinite;\n",
       "  }\n",
       "\n",
       "  @keyframes spin {\n",
       "    0% {\n",
       "      border-color: transparent;\n",
       "      border-bottom-color: var(--fill-color);\n",
       "      border-left-color: var(--fill-color);\n",
       "    }\n",
       "    20% {\n",
       "      border-color: transparent;\n",
       "      border-left-color: var(--fill-color);\n",
       "      border-top-color: var(--fill-color);\n",
       "    }\n",
       "    30% {\n",
       "      border-color: transparent;\n",
       "      border-left-color: var(--fill-color);\n",
       "      border-top-color: var(--fill-color);\n",
       "      border-right-color: var(--fill-color);\n",
       "    }\n",
       "    40% {\n",
       "      border-color: transparent;\n",
       "      border-right-color: var(--fill-color);\n",
       "      border-top-color: var(--fill-color);\n",
       "    }\n",
       "    60% {\n",
       "      border-color: transparent;\n",
       "      border-right-color: var(--fill-color);\n",
       "    }\n",
       "    80% {\n",
       "      border-color: transparent;\n",
       "      border-right-color: var(--fill-color);\n",
       "      border-bottom-color: var(--fill-color);\n",
       "    }\n",
       "    90% {\n",
       "      border-color: transparent;\n",
       "      border-bottom-color: var(--fill-color);\n",
       "    }\n",
       "  }\n",
       "</style>\n",
       "\n",
       "      <script>\n",
       "        async function quickchart(key) {\n",
       "          const quickchartButtonEl =\n",
       "            document.querySelector('#' + key + ' button');\n",
       "          quickchartButtonEl.disabled = true;  // To prevent multiple clicks.\n",
       "          quickchartButtonEl.classList.add('colab-df-spinner');\n",
       "          try {\n",
       "            const charts = await google.colab.kernel.invokeFunction(\n",
       "                'suggestCharts', [key], {});\n",
       "          } catch (error) {\n",
       "            console.error('Error during call to suggestCharts:', error);\n",
       "          }\n",
       "          quickchartButtonEl.classList.remove('colab-df-spinner');\n",
       "          quickchartButtonEl.classList.add('colab-df-quickchart-complete');\n",
       "        }\n",
       "        (() => {\n",
       "          let quickchartButtonEl =\n",
       "            document.querySelector('#df-4427d3e9-178f-4620-a9f4-19d122887e31 button');\n",
       "          quickchartButtonEl.style.display =\n",
       "            google.colab.kernel.accessAllowed ? 'block' : 'none';\n",
       "        })();\n",
       "      </script>\n",
       "    </div>\n",
       "\n",
       "  <div id=\"id_0e7e425e-4dea-4541-bb9a-cfea4bd40720\">\n",
       "    <style>\n",
       "      .colab-df-generate {\n",
       "        background-color: #E8F0FE;\n",
       "        border: none;\n",
       "        border-radius: 50%;\n",
       "        cursor: pointer;\n",
       "        display: none;\n",
       "        fill: #1967D2;\n",
       "        height: 32px;\n",
       "        padding: 0 0 0 0;\n",
       "        width: 32px;\n",
       "      }\n",
       "\n",
       "      .colab-df-generate:hover {\n",
       "        background-color: #E2EBFA;\n",
       "        box-shadow: 0px 1px 2px rgba(60, 64, 67, 0.3), 0px 1px 3px 1px rgba(60, 64, 67, 0.15);\n",
       "        fill: #174EA6;\n",
       "      }\n",
       "\n",
       "      [theme=dark] .colab-df-generate {\n",
       "        background-color: #3B4455;\n",
       "        fill: #D2E3FC;\n",
       "      }\n",
       "\n",
       "      [theme=dark] .colab-df-generate:hover {\n",
       "        background-color: #434B5C;\n",
       "        box-shadow: 0px 1px 3px 1px rgba(0, 0, 0, 0.15);\n",
       "        filter: drop-shadow(0px 1px 2px rgba(0, 0, 0, 0.3));\n",
       "        fill: #FFFFFF;\n",
       "      }\n",
       "    </style>\n",
       "    <button class=\"colab-df-generate\" onclick=\"generateWithVariable('df2020')\"\n",
       "            title=\"Generate code using this dataframe.\"\n",
       "            style=\"display:none;\">\n",
       "\n",
       "  <svg xmlns=\"http://www.w3.org/2000/svg\" height=\"24px\"viewBox=\"0 0 24 24\"\n",
       "       width=\"24px\">\n",
       "    <path d=\"M7,19H8.4L18.45,9,17,7.55,7,17.6ZM5,21V16.75L18.45,3.32a2,2,0,0,1,2.83,0l1.4,1.43a1.91,1.91,0,0,1,.58,1.4,1.91,1.91,0,0,1-.58,1.4L9.25,21ZM18.45,9,17,7.55Zm-12,3A5.31,5.31,0,0,0,4.9,8.1,5.31,5.31,0,0,0,1,6.5,5.31,5.31,0,0,0,4.9,4.9,5.31,5.31,0,0,0,6.5,1,5.31,5.31,0,0,0,8.1,4.9,5.31,5.31,0,0,0,12,6.5,5.46,5.46,0,0,0,6.5,12Z\"/>\n",
       "  </svg>\n",
       "    </button>\n",
       "    <script>\n",
       "      (() => {\n",
       "      const buttonEl =\n",
       "        document.querySelector('#id_0e7e425e-4dea-4541-bb9a-cfea4bd40720 button.colab-df-generate');\n",
       "      buttonEl.style.display =\n",
       "        google.colab.kernel.accessAllowed ? 'block' : 'none';\n",
       "\n",
       "      buttonEl.onclick = () => {\n",
       "        google.colab.notebook.generateWithVariable('df2020');\n",
       "      }\n",
       "      })();\n",
       "    </script>\n",
       "  </div>\n",
       "\n",
       "    </div>\n",
       "  </div>\n"
      ],
      "text/plain": [
       "         Timestamp   Age Gender    City           Position   \\\n",
       "0       11/24/2020  26.0   Male  Munich   Software Engineer   \n",
       "1       11/24/2020  26.0   Male  Berlin   Backend Developer   \n",
       "2       11/24/2020  29.0   Male  Berlin   Software Engineer   \n",
       "3       11/24/2020  28.0   Male  Berlin  Frontend Developer   \n",
       "4       11/24/2020  37.0   Male  Berlin   Backend Developer   \n",
       "...            ...   ...    ...     ...                 ...   \n",
       "130273         NaN   NaN    NaN     NaN                 NaN   \n",
       "130274         NaN   NaN    NaN     NaN                 NaN   \n",
       "130275         NaN   NaN    NaN     NaN                 NaN   \n",
       "130276         NaN   NaN    NaN     NaN                 NaN   \n",
       "130277         NaN   NaN    NaN     NaN                 NaN   \n",
       "\n",
       "       Total years of experience  Unnamed: 6 Seniority level  \\\n",
       "0                              5         NaN          Senior   \n",
       "1                              7         NaN          Senior   \n",
       "2                             12         NaN            Lead   \n",
       "3                              4         NaN          Junior   \n",
       "4                             17         NaN          Senior   \n",
       "...                          ...         ...             ...   \n",
       "130273                       NaN         NaN             NaN   \n",
       "130274                       NaN         NaN             NaN   \n",
       "130275                       NaN         NaN             NaN   \n",
       "130276                       NaN         NaN             NaN   \n",
       "130277                       NaN         NaN             NaN   \n",
       "\n",
       "                main technology  Unnamed: 9  ...  Unnamed: 12 Unnamed: 13  \\\n",
       "0                    TypeScript         NaN  ...          NaN         NaN   \n",
       "1                          Ruby         NaN  ...          NaN         NaN   \n",
       "2       Javascript / Typescript         NaN  ...          NaN         NaN   \n",
       "3                    Javascript         NaN  ...          NaN         NaN   \n",
       "4                       C# .NET         NaN  ...          NaN         NaN   \n",
       "...                         ...         ...  ...          ...         ...   \n",
       "130273                      NaN         NaN  ...          NaN         NaN   \n",
       "130274                      NaN         NaN  ...          NaN         NaN   \n",
       "130275                      NaN         NaN  ...          NaN         NaN   \n",
       "130276                      NaN         NaN  ...          NaN         NaN   \n",
       "130277                      NaN         NaN  ...          NaN         NaN   \n",
       "\n",
       "        Number of vacation days           Employment status  \\\n",
       "0                            30          Full-time employee   \n",
       "1                            28          Full-time employee   \n",
       "2                            30  Self-employed (freelancer)   \n",
       "3                            24          Full-time employee   \n",
       "4                            29          Full-time employee   \n",
       "...                         ...                         ...   \n",
       "130273                      NaN                         NaN   \n",
       "130274                      NaN                         NaN   \n",
       "130275                      NaN                         NaN   \n",
       "130276                      NaN                         NaN   \n",
       "130277                      NaN                         NaN   \n",
       "\n",
       "         Contract duration Main language at work Unnamed: 18 Company type  \\\n",
       "0       Unlimited contract               English         NaN      Product   \n",
       "1       Unlimited contract               English         NaN      Product   \n",
       "2       Temporary contract               English         NaN      Product   \n",
       "3       Unlimited contract               English         NaN      Startup   \n",
       "4       Unlimited contract               English         NaN      Product   \n",
       "...                    ...                   ...         ...          ...   \n",
       "130273                 NaN                   NaN         NaN          NaN   \n",
       "130274                 NaN                   NaN         NaN          NaN   \n",
       "130275                 NaN                   NaN         NaN          NaN   \n",
       "130276                 NaN                   NaN         NaN          NaN   \n",
       "130277                 NaN                   NaN         NaN          NaN   \n",
       "\n",
       "        Unnamed: 20 Company business sector  \n",
       "0               NaN                 Tourism  \n",
       "1               NaN   Scientific Activities  \n",
       "2               NaN                     NaN  \n",
       "3               NaN               Transport  \n",
       "4               NaN              Automotive  \n",
       "...             ...                     ...  \n",
       "130273          NaN                     NaN  \n",
       "130274          NaN                     NaN  \n",
       "130275          NaN                     NaN  \n",
       "130276          NaN                     NaN  \n",
       "130277          NaN                     NaN  \n",
       "\n",
       "[130278 rows x 22 columns]"
      ]
     },
     "execution_count": 5,
     "metadata": {},
     "output_type": "execute_result"
    }
   ],
   "source": [
    "df2020 = pd.read_csv(\"/content/IT Salary   2020.csv\")\n",
    "df2020"
   ]
  },
  {
   "cell_type": "code",
   "execution_count": null,
   "metadata": {
    "colab": {
     "base_uri": "https://localhost:8080/"
    },
    "executionInfo": {
     "elapsed": 23,
     "status": "ok",
     "timestamp": 1748582112670,
     "user": {
      "displayName": "Mohamedashraf Elgazar",
      "userId": "00875518360043549608"
     },
     "user_tz": -180
    },
    "id": "WrgsOjDcbnzi",
    "outputId": "8805b8c7-542c-4326-e217-fc6a0d0acbd5"
   },
   "outputs": [
    {
     "name": "stdout",
     "output_type": "stream",
     "text": [
      "Number of Rows and Columns (130278, 22)\n"
     ]
    }
   ],
   "source": [
    "print(\"Number of Rows and Columns\", df2020.shape)\n",
    "\n"
   ]
  },
  {
   "cell_type": "code",
   "execution_count": null,
   "metadata": {
    "colab": {
     "base_uri": "https://localhost:8080/"
    },
    "executionInfo": {
     "elapsed": 75,
     "status": "ok",
     "timestamp": 1748582113669,
     "user": {
      "displayName": "Mohamedashraf Elgazar",
      "userId": "00875518360043549608"
     },
     "user_tz": -180
    },
    "id": "tLilYug4b7wU",
    "outputId": "4fc2d257-87e7-42bc-cfb6-c14899d16e65"
   },
   "outputs": [
    {
     "name": "stdout",
     "output_type": "stream",
     "text": [
      "<class 'pandas.core.frame.DataFrame'>\n",
      "RangeIndex: 130278 entries, 0 to 130277\n",
      "Data columns (total 22 columns):\n",
      " #   Column                     Non-Null Count  Dtype  \n",
      "---  ------                     --------------  -----  \n",
      " 0   Timestamp                  1253 non-null   object \n",
      " 1   Age                        1226 non-null   float64\n",
      " 2   Gender                     1243 non-null   object \n",
      " 3   City                       1253 non-null   object \n",
      " 4   Position                   1247 non-null   object \n",
      " 5   Total years of experience  1237 non-null   object \n",
      " 6   Unnamed: 6                 0 non-null      float64\n",
      " 7   Seniority level            1241 non-null   object \n",
      " 8   main technology            1126 non-null   object \n",
      " 9   Unnamed: 9                 0 non-null      float64\n",
      " 10  Yearly salary              1253 non-null   float64\n",
      " 11  Yearly bonus               829 non-null    object \n",
      " 12  Unnamed: 12                0 non-null      float64\n",
      " 13  Unnamed: 13                0 non-null      float64\n",
      " 14  Number of vacation days    1185 non-null   object \n",
      " 15  Employment status          1236 non-null   object \n",
      " 16  Contract duration          1224 non-null   object \n",
      " 17  Main language at work      1237 non-null   object \n",
      " 18  Unnamed: 18                0 non-null      float64\n",
      " 19  Company type               1228 non-null   object \n",
      " 20  Unnamed: 20                0 non-null      float64\n",
      " 21  Company business sector    846 non-null    object \n",
      "dtypes: float64(8), object(14)\n",
      "memory usage: 21.9+ MB\n"
     ]
    }
   ],
   "source": [
    "df2020.info()"
   ]
  },
  {
   "cell_type": "code",
   "execution_count": null,
   "metadata": {
    "colab": {
     "base_uri": "https://localhost:8080/"
    },
    "executionInfo": {
     "elapsed": 135,
     "status": "ok",
     "timestamp": 1748582115260,
     "user": {
      "displayName": "Mohamedashraf Elgazar",
      "userId": "00875518360043549608"
     },
     "user_tz": -180
    },
    "id": "f7MT81aPnqYF",
    "outputId": "661d6406-d228-4a75-a260-6b0ad1649cd8"
   },
   "outputs": [
    {
     "name": "stdout",
     "output_type": "stream",
     "text": [
      "Original DataFrame shape: (130278, 22)\n",
      "Cleaned DataFrame shape: (1253, 22)\n"
     ]
    }
   ],
   "source": [
    "# Drop rows where ALL values are NaN\n",
    "df2020_cleaned = df2020.dropna(how='all')\n",
    "\n",
    "# Check shape before and after\n",
    "print(\"Original DataFrame shape:\", df2020.shape)\n",
    "print(\"Cleaned DataFrame shape:\", df2020_cleaned.shape)\n",
    "\n"
   ]
  },
  {
   "cell_type": "code",
   "execution_count": null,
   "metadata": {
    "colab": {
     "base_uri": "https://localhost:8080/"
    },
    "executionInfo": {
     "elapsed": 18,
     "status": "ok",
     "timestamp": 1748582116290,
     "user": {
      "displayName": "Mohamedashraf Elgazar",
      "userId": "00875518360043549608"
     },
     "user_tz": -180
    },
    "id": "lgJi5JPYq8yW",
    "outputId": "a8408dee-5761-4337-ac32-c265cc208fb7"
   },
   "outputs": [
    {
     "name": "stdout",
     "output_type": "stream",
     "text": [
      "Number of duplicate rows: 5\n"
     ]
    }
   ],
   "source": [
    "# Count total number of duplicate rows\n",
    "duplicate_count = df2020_cleaned.duplicated().sum()\n",
    "\n",
    "print(f\"Number of duplicate rows: {duplicate_count}\")"
   ]
  },
  {
   "cell_type": "code",
   "execution_count": null,
   "metadata": {
    "colab": {
     "base_uri": "https://localhost:8080/"
    },
    "executionInfo": {
     "elapsed": 21,
     "status": "ok",
     "timestamp": 1748582117155,
     "user": {
      "displayName": "Mohamedashraf Elgazar",
      "userId": "00875518360043549608"
     },
     "user_tz": -180
    },
    "id": "urEc7F1CrIkG",
    "outputId": "ea7aa14c-101b-43eb-dea0-8c69438f9855"
   },
   "outputs": [
    {
     "name": "stdout",
     "output_type": "stream",
     "text": [
      "All duplicate rows:\n",
      "       Timestamp   Age  Gender              City          Position   \\\n",
      "1035   12/1/2020  30.0    Male        Heidelberg  Software Engineer   \n",
      "1036   12/1/2020  30.0    Male        Heidelberg  Software Engineer   \n",
      "1049   12/2/2020  28.0    Male            Munich  Software Engineer   \n",
      "1050   12/2/2020  28.0    Male            Munich  Software Engineer   \n",
      "1116   12/7/2020  29.0    Male         Darmstadt     Data Scientist   \n",
      "1117   12/7/2020  29.0    Male         Darmstadt     Data Scientist   \n",
      "1161  12/14/2020  30.0  Female           Hamburg  Software Engineer   \n",
      "1162  12/14/2020  30.0  Female           Hamburg  Software Engineer   \n",
      "1234   1/10/2021  26.0    Male  Saint-Petersburg    Project Manager   \n",
      "1235   1/10/2021  26.0    Male  Saint-Petersburg    Project Manager   \n",
      "\n",
      "     Total years of experience  Unnamed: 6 Seniority level main technology  \\\n",
      "1035                         9         NaN          Senior            .NET   \n",
      "1036                         9         NaN          Senior            .NET   \n",
      "1049                         8         NaN          Senior             PHP   \n",
      "1050                         8         NaN          Senior             PHP   \n",
      "1116                         5         NaN          Middle          Python   \n",
      "1117                         5         NaN          Middle          Python   \n",
      "1161                         5         NaN          Senior            Java   \n",
      "1162                         5         NaN          Senior            Java   \n",
      "1234                         5         NaN          Middle          Python   \n",
      "1235                         5         NaN          Middle          Python   \n",
      "\n",
      "      Unnamed: 9  ...  Unnamed: 12 Unnamed: 13  Number of vacation days  \\\n",
      "1035         NaN  ...          NaN         NaN                       30   \n",
      "1036         NaN  ...          NaN         NaN                       30   \n",
      "1049         NaN  ...          NaN         NaN                       28   \n",
      "1050         NaN  ...          NaN         NaN                       28   \n",
      "1116         NaN  ...          NaN         NaN                       30   \n",
      "1117         NaN  ...          NaN         NaN                       30   \n",
      "1161         NaN  ...          NaN         NaN                      NaN   \n",
      "1162         NaN  ...          NaN         NaN                      NaN   \n",
      "1234         NaN  ...          NaN         NaN                       24   \n",
      "1235         NaN  ...          NaN         NaN                       24   \n",
      "\n",
      "       Employment status   Contract duration Main language at work  \\\n",
      "1035  Full-time employee  Temporary contract               English   \n",
      "1036  Full-time employee  Temporary contract               English   \n",
      "1049  Full-time employee  Unlimited contract               English   \n",
      "1050  Full-time employee  Unlimited contract               English   \n",
      "1116  Full-time employee  Unlimited contract               English   \n",
      "1117  Full-time employee  Unlimited contract               English   \n",
      "1161  Full-time employee  Unlimited contract               English   \n",
      "1162  Full-time employee  Unlimited contract               English   \n",
      "1234  Full-time employee  Unlimited contract               Russian   \n",
      "1235  Full-time employee  Unlimited contract               Russian   \n",
      "\n",
      "     Unnamed: 18 Company type  Unnamed: 20 Company business sector  \n",
      "1035         NaN     Research          NaN                     NaN  \n",
      "1036         NaN     Research          NaN                     NaN  \n",
      "1049         NaN      Product          NaN                     NaN  \n",
      "1050         NaN      Product          NaN                     NaN  \n",
      "1116         NaN      Product          NaN                     NaN  \n",
      "1117         NaN      Product          NaN                     NaN  \n",
      "1161         NaN      Product          NaN                     NaN  \n",
      "1162         NaN      Product          NaN                     NaN  \n",
      "1234         NaN      Product          NaN                     NaN  \n",
      "1235         NaN      Product          NaN                     NaN  \n",
      "\n",
      "[10 rows x 22 columns]\n"
     ]
    }
   ],
   "source": [
    "# Show all duplicate rows (including the first occurrence)\n",
    "duplicate_rows = df2020_cleaned[df2020_cleaned.duplicated(keep=False)]\n",
    "\n",
    "print(\"All duplicate rows:\")\n",
    "print(duplicate_rows)"
   ]
  },
  {
   "cell_type": "code",
   "execution_count": null,
   "metadata": {
    "colab": {
     "base_uri": "https://localhost:8080/"
    },
    "executionInfo": {
     "elapsed": 22,
     "status": "ok",
     "timestamp": 1748582117976,
     "user": {
      "displayName": "Mohamedashraf Elgazar",
      "userId": "00875518360043549608"
     },
     "user_tz": -180
    },
    "id": "TziChSELrVjN",
    "outputId": "3bf3010d-92ad-4699-96f4-b634d323e35b"
   },
   "outputs": [
    {
     "name": "stdout",
     "output_type": "stream",
     "text": [
      "Duplicates removed. Updated shape: (1248, 22)\n"
     ]
    }
   ],
   "source": [
    "# Drop duplicates, keeping the first occurrence\n",
    "df2020_cleaned = df2020_cleaned.drop_duplicates(keep='first')\n",
    "\n",
    "# Reset index if needed\n",
    "df2020_cleaned = df2020_cleaned.reset_index(drop=True)\n",
    "\n",
    "print(\"Duplicates removed. Updated shape:\", df2020_cleaned.shape)"
   ]
  },
  {
   "cell_type": "code",
   "execution_count": null,
   "metadata": {
    "colab": {
     "base_uri": "https://localhost:8080/"
    },
    "executionInfo": {
     "elapsed": 22,
     "status": "ok",
     "timestamp": 1748582120322,
     "user": {
      "displayName": "Mohamedashraf Elgazar",
      "userId": "00875518360043549608"
     },
     "user_tz": -180
    },
    "id": "EjT2uNCxrZbN",
    "outputId": "46157860-6253-43f9-d28c-69b8f8c887c5"
   },
   "outputs": [
    {
     "name": "stdout",
     "output_type": "stream",
     "text": [
      "Number of duplicate rows: 0\n"
     ]
    }
   ],
   "source": [
    "# check again if there is duplicate\n",
    "duplicate_count = df2020_cleaned.duplicated().sum()\n",
    "\n",
    "print(f\"Number of duplicate rows: {duplicate_count}\")"
   ]
  },
  {
   "cell_type": "code",
   "execution_count": null,
   "metadata": {
    "colab": {
     "base_uri": "https://localhost:8080/"
    },
    "executionInfo": {
     "elapsed": 16,
     "status": "ok",
     "timestamp": 1748582121147,
     "user": {
      "displayName": "Mohamedashraf Elgazar",
      "userId": "00875518360043549608"
     },
     "user_tz": -180
    },
    "id": "M3XMIz3qnwB8",
    "outputId": "a98ac6ba-8198-4b75-a6a2-1b4abaf8cd27"
   },
   "outputs": [
    {
     "name": "stdout",
     "output_type": "stream",
     "text": [
      "<class 'pandas.core.frame.DataFrame'>\n",
      "RangeIndex: 1248 entries, 0 to 1247\n",
      "Data columns (total 22 columns):\n",
      " #   Column                     Non-Null Count  Dtype  \n",
      "---  ------                     --------------  -----  \n",
      " 0   Timestamp                  1248 non-null   object \n",
      " 1   Age                        1221 non-null   float64\n",
      " 2   Gender                     1238 non-null   object \n",
      " 3   City                       1248 non-null   object \n",
      " 4   Position                   1242 non-null   object \n",
      " 5   Total years of experience  1232 non-null   object \n",
      " 6   Unnamed: 6                 0 non-null      float64\n",
      " 7   Seniority level            1236 non-null   object \n",
      " 8   main technology            1121 non-null   object \n",
      " 9   Unnamed: 9                 0 non-null      float64\n",
      " 10  Yearly salary              1248 non-null   float64\n",
      " 11  Yearly bonus               825 non-null    object \n",
      " 12  Unnamed: 12                0 non-null      float64\n",
      " 13  Unnamed: 13                0 non-null      float64\n",
      " 14  Number of vacation days    1181 non-null   object \n",
      " 15  Employment status          1231 non-null   object \n",
      " 16  Contract duration          1219 non-null   object \n",
      " 17  Main language at work      1232 non-null   object \n",
      " 18  Unnamed: 18                0 non-null      float64\n",
      " 19  Company type               1223 non-null   object \n",
      " 20  Unnamed: 20                0 non-null      float64\n",
      " 21  Company business sector    846 non-null    object \n",
      "dtypes: float64(8), object(14)\n",
      "memory usage: 214.6+ KB\n"
     ]
    }
   ],
   "source": [
    "df2020_cleaned.info()"
   ]
  },
  {
   "cell_type": "code",
   "execution_count": null,
   "metadata": {
    "id": "FY8Oje_9cKZa"
   },
   "outputs": [],
   "source": [
    "#remove unecessary coulumn\n",
    "df2020_cleaned = df2020_cleaned.loc[:, ~df2020_cleaned.columns.str.contains('^Unnamed')]"
   ]
  },
  {
   "cell_type": "code",
   "execution_count": null,
   "metadata": {
    "colab": {
     "base_uri": "https://localhost:8080/"
    },
    "executionInfo": {
     "elapsed": 17,
     "status": "ok",
     "timestamp": 1748582122492,
     "user": {
      "displayName": "Mohamedashraf Elgazar",
      "userId": "00875518360043549608"
     },
     "user_tz": -180
    },
    "id": "rnSDzdzOeENK",
    "outputId": "bbaaefa4-2d6a-49a7-fb6a-dc862aa1597a"
   },
   "outputs": [
    {
     "name": "stdout",
     "output_type": "stream",
     "text": [
      "<class 'pandas.core.frame.DataFrame'>\n",
      "RangeIndex: 1248 entries, 0 to 1247\n",
      "Data columns (total 16 columns):\n",
      " #   Column                     Non-Null Count  Dtype  \n",
      "---  ------                     --------------  -----  \n",
      " 0   Timestamp                  1248 non-null   object \n",
      " 1   Age                        1221 non-null   float64\n",
      " 2   Gender                     1238 non-null   object \n",
      " 3   City                       1248 non-null   object \n",
      " 4   Position                   1242 non-null   object \n",
      " 5   Total years of experience  1232 non-null   object \n",
      " 6   Seniority level            1236 non-null   object \n",
      " 7   main technology            1121 non-null   object \n",
      " 8   Yearly salary              1248 non-null   float64\n",
      " 9   Yearly bonus               825 non-null    object \n",
      " 10  Number of vacation days    1181 non-null   object \n",
      " 11  Employment status          1231 non-null   object \n",
      " 12  Contract duration          1219 non-null   object \n",
      " 13  Main language at work      1232 non-null   object \n",
      " 14  Company type               1223 non-null   object \n",
      " 15  Company business sector    846 non-null    object \n",
      "dtypes: float64(2), object(14)\n",
      "memory usage: 156.1+ KB\n"
     ]
    }
   ],
   "source": [
    "df2020_cleaned.info()"
   ]
  },
  {
   "cell_type": "code",
   "execution_count": null,
   "metadata": {
    "id": "23KxCh7ieEhQ"
   },
   "outputs": [],
   "source": [
    "# Step 1: Convert Timestamp to datetime\n",
    "df2020_cleaned['Timestamp'] = pd.to_datetime(df2020_cleaned['Timestamp'], errors='coerce')\n",
    "\n",
    "# Step 2: Extract date only and format as DD/MM/YYYY\n",
    "df2020_cleaned['Timestamp'] = df2020_cleaned['Timestamp'].dt.strftime('%m/%d/%Y')\n"
   ]
  },
  {
   "cell_type": "code",
   "execution_count": null,
   "metadata": {
    "colab": {
     "base_uri": "https://localhost:8080/"
    },
    "executionInfo": {
     "elapsed": 23,
     "status": "ok",
     "timestamp": 1748582123916,
     "user": {
      "displayName": "Mohamedashraf Elgazar",
      "userId": "00875518360043549608"
     },
     "user_tz": -180
    },
    "id": "kijgffFkhony",
    "outputId": "98004bae-326c-4608-92fc-9d7b7670de1e"
   },
   "outputs": [
    {
     "name": "stdout",
     "output_type": "stream",
     "text": [
      "<class 'pandas.core.frame.DataFrame'>\n",
      "RangeIndex: 1248 entries, 0 to 1247\n",
      "Data columns (total 16 columns):\n",
      " #   Column                     Non-Null Count  Dtype  \n",
      "---  ------                     --------------  -----  \n",
      " 0   Timestamp                  1248 non-null   object \n",
      " 1   Age                        1221 non-null   float64\n",
      " 2   Gender                     1238 non-null   object \n",
      " 3   City                       1248 non-null   object \n",
      " 4   Position                   1242 non-null   object \n",
      " 5   Total years of experience  1232 non-null   object \n",
      " 6   Seniority level            1236 non-null   object \n",
      " 7   main technology            1121 non-null   object \n",
      " 8   Yearly salary              1248 non-null   float64\n",
      " 9   Yearly bonus               825 non-null    object \n",
      " 10  Number of vacation days    1181 non-null   object \n",
      " 11  Employment status          1231 non-null   object \n",
      " 12  Contract duration          1219 non-null   object \n",
      " 13  Main language at work      1232 non-null   object \n",
      " 14  Company type               1223 non-null   object \n",
      " 15  Company business sector    846 non-null    object \n",
      "dtypes: float64(2), object(14)\n",
      "memory usage: 156.1+ KB\n"
     ]
    }
   ],
   "source": [
    "df2020_cleaned.info()"
   ]
  },
  {
   "cell_type": "code",
   "execution_count": null,
   "metadata": {
    "colab": {
     "base_uri": "https://localhost:8080/"
    },
    "executionInfo": {
     "elapsed": 52,
     "status": "ok",
     "timestamp": 1748582124641,
     "user": {
      "displayName": "Mohamedashraf Elgazar",
      "userId": "00875518360043549608"
     },
     "user_tz": -180
    },
    "id": "iHwDKH5lh841",
    "outputId": "6115d8cf-c79a-49db-9888-7d60feae109e"
   },
   "outputs": [
    {
     "name": "stdout",
     "output_type": "stream",
     "text": [
      "Number of null values in 'Age' column: 27\n"
     ]
    }
   ],
   "source": [
    "# null values in the 'Age' column\n",
    "null_count = df2020_cleaned['Age'].isnull().sum()\n",
    "print(f\"Number of null values in 'Age' column: {null_count}\")"
   ]
  },
  {
   "cell_type": "code",
   "execution_count": null,
   "metadata": {
    "colab": {
     "base_uri": "https://localhost:8080/"
    },
    "executionInfo": {
     "elapsed": 23,
     "status": "ok",
     "timestamp": 1748582125237,
     "user": {
      "displayName": "Mohamedashraf Elgazar",
      "userId": "00875518360043549608"
     },
     "user_tz": -180
    },
    "id": "UUFWAd52mVd5",
    "outputId": "c7de8155-b7a3-47b0-aefb-78e48da80381"
   },
   "outputs": [
    {
     "data": {
      "text/plain": [
       "np.float64(32.52579852579853)"
      ]
     },
     "execution_count": 19,
     "metadata": {},
     "output_type": "execute_result"
    }
   ],
   "source": [
    "# get average of ages and replace with it nulls\n",
    "import math\n",
    "\n",
    "average_age = df2020_cleaned['Age'].mean()\n",
    "average_age"
   ]
  },
  {
   "cell_type": "code",
   "execution_count": null,
   "metadata": {
    "colab": {
     "base_uri": "https://localhost:8080/"
    },
    "executionInfo": {
     "elapsed": 16,
     "status": "ok",
     "timestamp": 1748582126313,
     "user": {
      "displayName": "Mohamedashraf Elgazar",
      "userId": "00875518360043549608"
     },
     "user_tz": -180
    },
    "id": "0J47Q6KOpFyS",
    "outputId": "99faf6f3-a85b-4f35-d966-34de81cb7bea"
   },
   "outputs": [
    {
     "name": "stdout",
     "output_type": "stream",
     "text": [
      "Rounded Average Age: 33\n"
     ]
    }
   ],
   "source": [
    "# Always round up if .5 or more\n",
    "rounded_age = math.ceil(average_age) if (average_age - math.floor(average_age)) >= 0.5 else math.floor(average_age)\n",
    "\n",
    "print(f\"Rounded Average Age: {rounded_age}\")"
   ]
  },
  {
   "cell_type": "code",
   "execution_count": null,
   "metadata": {
    "colab": {
     "base_uri": "https://localhost:8080/"
    },
    "executionInfo": {
     "elapsed": 17,
     "status": "ok",
     "timestamp": 1748582126990,
     "user": {
      "displayName": "Mohamedashraf Elgazar",
      "userId": "00875518360043549608"
     },
     "user_tz": -180
    },
    "id": "zs3DRZbFpK7r",
    "outputId": "a466f4cb-fb3a-49f6-f6ed-05658da14035"
   },
   "outputs": [
    {
     "name": "stdout",
     "output_type": "stream",
     "text": [
      "Number of nulls in 'Age' after filling: 0\n"
     ]
    }
   ],
   "source": [
    "# Fill nulls in 'Age' column with the average age\n",
    "df2020_cleaned['Age'] = df2020_cleaned['Age'].fillna(rounded_age)\n",
    "\n",
    "# Confirm there are no more nulls\n",
    "null_count = df2020_cleaned['Age'].isnull().sum()\n",
    "print(f\"Number of nulls in 'Age' after filling: {null_count}\")"
   ]
  },
  {
   "cell_type": "code",
   "execution_count": null,
   "metadata": {
    "colab": {
     "base_uri": "https://localhost:8080/"
    },
    "executionInfo": {
     "elapsed": 17,
     "status": "ok",
     "timestamp": 1748582127862,
     "user": {
      "displayName": "Mohamedashraf Elgazar",
      "userId": "00875518360043549608"
     },
     "user_tz": -180
    },
    "id": "MIZlaV_vpYOU",
    "outputId": "a1f23174-c595-481c-8b8c-320431056c1c"
   },
   "outputs": [
    {
     "name": "stdout",
     "output_type": "stream",
     "text": [
      "Number of null values in 'Age' column: 0\n"
     ]
    }
   ],
   "source": [
    "# check here if there is null in age after replace with values\n",
    "null_count = df2020_cleaned['Age'].isnull().sum()\n",
    "print(f\"Number of null values in 'Age' column: {null_count}\")"
   ]
  },
  {
   "cell_type": "code",
   "execution_count": null,
   "metadata": {
    "colab": {
     "base_uri": "https://localhost:8080/"
    },
    "executionInfo": {
     "elapsed": 32,
     "status": "ok",
     "timestamp": 1748582128604,
     "user": {
      "displayName": "Mohamedashraf Elgazar",
      "userId": "00875518360043549608"
     },
     "user_tz": -180
    },
    "id": "itb1R0zLpii5",
    "outputId": "accd8894-8e60-4158-ccaf-001f9c4cc3ff"
   },
   "outputs": [
    {
     "name": "stdout",
     "output_type": "stream",
     "text": [
      "<class 'pandas.core.frame.DataFrame'>\n",
      "RangeIndex: 1248 entries, 0 to 1247\n",
      "Data columns (total 16 columns):\n",
      " #   Column                     Non-Null Count  Dtype  \n",
      "---  ------                     --------------  -----  \n",
      " 0   Timestamp                  1248 non-null   object \n",
      " 1   Age                        1248 non-null   float64\n",
      " 2   Gender                     1238 non-null   object \n",
      " 3   City                       1248 non-null   object \n",
      " 4   Position                   1242 non-null   object \n",
      " 5   Total years of experience  1232 non-null   object \n",
      " 6   Seniority level            1236 non-null   object \n",
      " 7   main technology            1121 non-null   object \n",
      " 8   Yearly salary              1248 non-null   float64\n",
      " 9   Yearly bonus               825 non-null    object \n",
      " 10  Number of vacation days    1181 non-null   object \n",
      " 11  Employment status          1231 non-null   object \n",
      " 12  Contract duration          1219 non-null   object \n",
      " 13  Main language at work      1232 non-null   object \n",
      " 14  Company type               1223 non-null   object \n",
      " 15  Company business sector    846 non-null    object \n",
      "dtypes: float64(2), object(14)\n",
      "memory usage: 156.1+ KB\n"
     ]
    }
   ],
   "source": [
    "df2020_cleaned.info()"
   ]
  },
  {
   "cell_type": "code",
   "execution_count": null,
   "metadata": {
    "colab": {
     "base_uri": "https://localhost:8080/"
    },
    "executionInfo": {
     "elapsed": 21,
     "status": "ok",
     "timestamp": 1748582129632,
     "user": {
      "displayName": "Mohamedashraf Elgazar",
      "userId": "00875518360043549608"
     },
     "user_tz": -180
    },
    "id": "Vgm969EAppv9",
    "outputId": "86fd53de-54ef-4264-b812-6ed8e5399995"
   },
   "outputs": [
    {
     "name": "stdout",
     "output_type": "stream",
     "text": [
      "Number of null values in 'Gendere' column: 10\n"
     ]
    }
   ],
   "source": [
    "# i want to know how null Genders have\n",
    "null_count = df2020_cleaned['Gender'].isnull().sum()\n",
    "print(f\"Number of null values in 'Gendere' column: {null_count}\")"
   ]
  },
  {
   "cell_type": "code",
   "execution_count": null,
   "metadata": {
    "id": "qd-ikzAbp6hs"
   },
   "outputs": [],
   "source": [
    "# replace null with others\n",
    "df2020_cleaned['Gender'] = df2020_cleaned['Gender'].fillna('Other')\n"
   ]
  },
  {
   "cell_type": "code",
   "execution_count": null,
   "metadata": {
    "colab": {
     "base_uri": "https://localhost:8080/"
    },
    "executionInfo": {
     "elapsed": 4,
     "status": "ok",
     "timestamp": 1748582131786,
     "user": {
      "displayName": "Mohamedashraf Elgazar",
      "userId": "00875518360043549608"
     },
     "user_tz": -180
    },
    "id": "i8m1BgvkqQy2",
    "outputId": "e578d646-58bf-4ca9-d106-58ab526da0a5"
   },
   "outputs": [
    {
     "name": "stdout",
     "output_type": "stream",
     "text": [
      "Number of nulls in 'Gender' after filling: 0\n"
     ]
    }
   ],
   "source": [
    "null_count = df2020_cleaned['Gender'].isnull().sum()\n",
    "print(f\"Number of nulls in 'Gender' after filling: {null_count}\")"
   ]
  },
  {
   "cell_type": "code",
   "execution_count": null,
   "metadata": {
    "colab": {
     "base_uri": "https://localhost:8080/"
    },
    "executionInfo": {
     "elapsed": 4,
     "status": "ok",
     "timestamp": 1748582132408,
     "user": {
      "displayName": "Mohamedashraf Elgazar",
      "userId": "00875518360043549608"
     },
     "user_tz": -180
    },
    "id": "tBY7NSosq1SR",
    "outputId": "9d201c05-d190-4d6c-beda-f944ff8c1e35"
   },
   "outputs": [
    {
     "name": "stdout",
     "output_type": "stream",
     "text": [
      "<class 'pandas.core.frame.DataFrame'>\n",
      "RangeIndex: 1248 entries, 0 to 1247\n",
      "Data columns (total 16 columns):\n",
      " #   Column                     Non-Null Count  Dtype  \n",
      "---  ------                     --------------  -----  \n",
      " 0   Timestamp                  1248 non-null   object \n",
      " 1   Age                        1248 non-null   float64\n",
      " 2   Gender                     1248 non-null   object \n",
      " 3   City                       1248 non-null   object \n",
      " 4   Position                   1242 non-null   object \n",
      " 5   Total years of experience  1232 non-null   object \n",
      " 6   Seniority level            1236 non-null   object \n",
      " 7   main technology            1121 non-null   object \n",
      " 8   Yearly salary              1248 non-null   float64\n",
      " 9   Yearly bonus               825 non-null    object \n",
      " 10  Number of vacation days    1181 non-null   object \n",
      " 11  Employment status          1231 non-null   object \n",
      " 12  Contract duration          1219 non-null   object \n",
      " 13  Main language at work      1232 non-null   object \n",
      " 14  Company type               1223 non-null   object \n",
      " 15  Company business sector    846 non-null    object \n",
      "dtypes: float64(2), object(14)\n",
      "memory usage: 156.1+ KB\n"
     ]
    }
   ],
   "source": [
    "df2020_cleaned.info()"
   ]
  },
  {
   "cell_type": "code",
   "execution_count": null,
   "metadata": {
    "colab": {
     "base_uri": "https://localhost:8080/"
    },
    "executionInfo": {
     "elapsed": 9,
     "status": "ok",
     "timestamp": 1748582134600,
     "user": {
      "displayName": "Mohamedashraf Elgazar",
      "userId": "00875518360043549608"
     },
     "user_tz": -180
    },
    "id": "q0156LnNrtso",
    "outputId": "290c76c4-648c-47ae-b2c3-dc3d5b36db37"
   },
   "outputs": [
    {
     "name": "stdout",
     "output_type": "stream",
     "text": [
      "Number of null values in 'Position ' column: 6\n"
     ]
    }
   ],
   "source": [
    "# Count nulls in 'Position ' column (note the space in the name)\n",
    "null_count_position = df2020_cleaned['Position '].isnull().sum()\n",
    "\n",
    "print(f\"Number of null values in 'Position ' column: {null_count_position}\")"
   ]
  },
  {
   "cell_type": "code",
   "execution_count": null,
   "metadata": {
    "colab": {
     "base_uri": "https://localhost:8080/"
    },
    "executionInfo": {
     "elapsed": 5,
     "status": "ok",
     "timestamp": 1748582135064,
     "user": {
      "displayName": "Mohamedashraf Elgazar",
      "userId": "00875518360043549608"
     },
     "user_tz": -180
    },
    "id": "xeUaaskdr5lE",
    "outputId": "a877780b-dead-49b6-87d7-9364e574c912"
   },
   "outputs": [
    {
     "name": "stdout",
     "output_type": "stream",
     "text": [
      "Nulls in 'Position ' after replacement: 0\n"
     ]
    }
   ],
   "source": [
    "# Replace nulls in 'Position ' column with 'Other'\n",
    "df2020_cleaned['Position '] = df2020_cleaned['Position '].fillna('Other')\n",
    "\n",
    "# Confirm no more nulls\n",
    "null_count = df2020_cleaned['Position '].isnull().sum()\n",
    "print(f\"Nulls in 'Position ' after replacement: {null_count}\")"
   ]
  },
  {
   "cell_type": "code",
   "execution_count": null,
   "metadata": {
    "colab": {
     "base_uri": "https://localhost:8080/"
    },
    "executionInfo": {
     "elapsed": 12,
     "status": "ok",
     "timestamp": 1748582135602,
     "user": {
      "displayName": "Mohamedashraf Elgazar",
      "userId": "00875518360043549608"
     },
     "user_tz": -180
    },
    "id": "nbts8tgks22y",
    "outputId": "5fe8901f-633f-402f-ad64-8474085af50a"
   },
   "outputs": [
    {
     "name": "stdout",
     "output_type": "stream",
     "text": [
      "<class 'pandas.core.frame.DataFrame'>\n",
      "RangeIndex: 1248 entries, 0 to 1247\n",
      "Data columns (total 16 columns):\n",
      " #   Column                     Non-Null Count  Dtype  \n",
      "---  ------                     --------------  -----  \n",
      " 0   Timestamp                  1248 non-null   object \n",
      " 1   Age                        1248 non-null   float64\n",
      " 2   Gender                     1248 non-null   object \n",
      " 3   City                       1248 non-null   object \n",
      " 4   Position                   1248 non-null   object \n",
      " 5   Total years of experience  1232 non-null   object \n",
      " 6   Seniority level            1236 non-null   object \n",
      " 7   main technology            1121 non-null   object \n",
      " 8   Yearly salary              1248 non-null   float64\n",
      " 9   Yearly bonus               825 non-null    object \n",
      " 10  Number of vacation days    1181 non-null   object \n",
      " 11  Employment status          1231 non-null   object \n",
      " 12  Contract duration          1219 non-null   object \n",
      " 13  Main language at work      1232 non-null   object \n",
      " 14  Company type               1223 non-null   object \n",
      " 15  Company business sector    846 non-null    object \n",
      "dtypes: float64(2), object(14)\n",
      "memory usage: 156.1+ KB\n"
     ]
    }
   ],
   "source": [
    "df2020_cleaned.info()"
   ]
  },
  {
   "cell_type": "code",
   "execution_count": null,
   "metadata": {
    "colab": {
     "base_uri": "https://localhost:8080/"
    },
    "executionInfo": {
     "elapsed": 28,
     "status": "ok",
     "timestamp": 1748582136241,
     "user": {
      "displayName": "Mohamedashraf Elgazar",
      "userId": "00875518360043549608"
     },
     "user_tz": -180
    },
    "id": "2klrQKintKPW",
    "outputId": "9f488470-1b15-4aa2-9626-3d520e5e285d"
   },
   "outputs": [
    {
     "name": "stdout",
     "output_type": "stream",
     "text": [
      "Number of nulls in Total years of experienceder' after filling: 16\n"
     ]
    }
   ],
   "source": [
    "null_count = df2020_cleaned['Total years of experience'].isnull().sum()\n",
    "print(f\"Number of nulls in Total years of experienceder' after filling: {null_count}\")"
   ]
  },
  {
   "cell_type": "code",
   "execution_count": null,
   "metadata": {
    "colab": {
     "base_uri": "https://localhost:8080/"
    },
    "executionInfo": {
     "elapsed": 21,
     "status": "ok",
     "timestamp": 1748582137040,
     "user": {
      "displayName": "Mohamedashraf Elgazar",
      "userId": "00875518360043549608"
     },
     "user_tz": -180
    },
    "id": "oTon2A4Gt2WT",
    "outputId": "6faa59b5-da89-4556-928a-f3615391dda0"
   },
   "outputs": [
    {
     "name": "stdout",
     "output_type": "stream",
     "text": [
      "Nulls in Yearly salary after filling: 0\n"
     ]
    }
   ],
   "source": [
    "# Calculate average salary\n",
    "avg_salary = df2020_cleaned['Yearly salary '].mean()\n",
    "\n",
    "# Fill nulls in 'Yearly salary' column\n",
    "df2020_cleaned['Yearly salary '] = df2020_cleaned['Yearly salary '].fillna(avg_salary)\n",
    "\n",
    "# Round if needed\n",
    "df2020_cleaned['Yearly salary '] = round(df2020_cleaned['Yearly salary '])\n",
    "\n",
    "# Confirm no more nulls\n",
    "print(\"Nulls in Yearly salary after filling:\", df2020_cleaned['Yearly salary '].isnull().sum())"
   ]
  },
  {
   "cell_type": "code",
   "execution_count": null,
   "metadata": {
    "colab": {
     "base_uri": "https://localhost:8080/"
    },
    "executionInfo": {
     "elapsed": 17,
     "status": "ok",
     "timestamp": 1748582138978,
     "user": {
      "displayName": "Mohamedashraf Elgazar",
      "userId": "00875518360043549608"
     },
     "user_tz": -180
    },
    "id": "yg_OHV9QunjN",
    "outputId": "27192e59-9427-449a-ab44-d581976aea7b"
   },
   "outputs": [
    {
     "name": "stdout",
     "output_type": "stream",
     "text": [
      "<class 'pandas.core.frame.DataFrame'>\n",
      "RangeIndex: 1248 entries, 0 to 1247\n",
      "Data columns (total 16 columns):\n",
      " #   Column                     Non-Null Count  Dtype  \n",
      "---  ------                     --------------  -----  \n",
      " 0   Timestamp                  1248 non-null   object \n",
      " 1   Age                        1248 non-null   float64\n",
      " 2   Gender                     1248 non-null   object \n",
      " 3   City                       1248 non-null   object \n",
      " 4   Position                   1248 non-null   object \n",
      " 5   Total years of experience  1232 non-null   object \n",
      " 6   Seniority level            1236 non-null   object \n",
      " 7   main technology            1121 non-null   object \n",
      " 8   Yearly salary              1248 non-null   float64\n",
      " 9   Yearly bonus               825 non-null    object \n",
      " 10  Number of vacation days    1181 non-null   object \n",
      " 11  Employment status          1231 non-null   object \n",
      " 12  Contract duration          1219 non-null   object \n",
      " 13  Main language at work      1232 non-null   object \n",
      " 14  Company type               1223 non-null   object \n",
      " 15  Company business sector    846 non-null    object \n",
      "dtypes: float64(2), object(14)\n",
      "memory usage: 156.1+ KB\n"
     ]
    }
   ],
   "source": [
    "df2020_cleaned.info()"
   ]
  },
  {
   "cell_type": "code",
   "execution_count": null,
   "metadata": {
    "colab": {
     "base_uri": "https://localhost:8080/"
    },
    "executionInfo": {
     "elapsed": 23,
     "status": "ok",
     "timestamp": 1748582140147,
     "user": {
      "displayName": "Mohamedashraf Elgazar",
      "userId": "00875518360043549608"
     },
     "user_tz": -180
    },
    "id": "LTHaOEzbu4cb",
    "outputId": "46b91900-7d44-49aa-8e26-7c3133857296"
   },
   "outputs": [
    {
     "name": "stdout",
     "output_type": "stream",
     "text": [
      "Average years of experience: 9.089061224489797\n",
      "Rounded down value used: 9\n",
      "Nulls after filling: 0\n"
     ]
    }
   ],
   "source": [
    "import math\n",
    "\n",
    "# Step 1: Convert 'Total years of experience' to numeric\n",
    "df2020_cleaned['Total years of experience'] = pd.to_numeric(df2020_cleaned['Total years of experience'], errors='coerce')\n",
    "\n",
    "# Step 2: Calculate average (mean) of non-null values\n",
    "avg_experience = df2020_cleaned['Total years of experience'].mean()\n",
    "\n",
    "# Step 3: Round down and convert to integer\n",
    "rounded_avg_exp = math.floor(avg_experience)\n",
    "\n",
    "# Step 4: Fill nulls with rounded-down average\n",
    "df2020_cleaned['Total years of experience'] = df2020_cleaned['Total years of experience'].fillna(rounded_avg_exp)\n",
    "\n",
    "# Optional: Convert entire column to integer type\n",
    "df2020_cleaned['Total years of experience'] = df2020_cleaned['Total years of experience'].astype(int)\n",
    "\n",
    "# Step 5: Print result\n",
    "print(f\"Average years of experience: {avg_experience}\")\n",
    "print(f\"Rounded down value used: {rounded_avg_exp}\")\n",
    "print(\"Nulls after filling:\", df2020_cleaned['Total years of experience'].isnull().sum())"
   ]
  },
  {
   "cell_type": "code",
   "execution_count": null,
   "metadata": {
    "colab": {
     "base_uri": "https://localhost:8080/"
    },
    "executionInfo": {
     "elapsed": 11,
     "status": "ok",
     "timestamp": 1748582141632,
     "user": {
      "displayName": "Mohamedashraf Elgazar",
      "userId": "00875518360043549608"
     },
     "user_tz": -180
    },
    "id": "VhkuvVMhvFyP",
    "outputId": "706ca05a-b380-4884-b1dc-33c088a8a243"
   },
   "outputs": [
    {
     "name": "stdout",
     "output_type": "stream",
     "text": [
      "Nulls in 'Seniority level' after replacement: 0\n"
     ]
    }
   ],
   "source": [
    "# Replace null values in 'Seniority level' column with 'No data'\n",
    "df2020_cleaned['Seniority level'] = df2020_cleaned['Seniority level'].fillna('No data')\n",
    "\n",
    "# Confirm there are no more nulls\n",
    "null_count = df2020_cleaned['Seniority level'].isnull().sum()\n",
    "print(f\"Nulls in 'Seniority level' after replacement: {null_count}\")"
   ]
  },
  {
   "cell_type": "code",
   "execution_count": null,
   "metadata": {
    "colab": {
     "base_uri": "https://localhost:8080/"
    },
    "executionInfo": {
     "elapsed": 22,
     "status": "ok",
     "timestamp": 1748582141913,
     "user": {
      "displayName": "Mohamedashraf Elgazar",
      "userId": "00875518360043549608"
     },
     "user_tz": -180
    },
    "id": "KhSOEDK2vICH",
    "outputId": "9cc7f2e0-bb7d-4693-f996-07193a752b31"
   },
   "outputs": [
    {
     "name": "stdout",
     "output_type": "stream",
     "text": [
      "Nulls in 'Seniority level' after replacement: 0\n"
     ]
    }
   ],
   "source": [
    "df2020_cleaned['main technology'] = df2020_cleaned['main technology'].fillna('No data')\n",
    "\n",
    "# Confirm there are no more nulls\n",
    "null_count = df2020_cleaned['main technology'].isnull().sum()\n",
    "print(f\"Nulls in 'Seniority level' after replacement: {null_count}\")"
   ]
  },
  {
   "cell_type": "code",
   "execution_count": null,
   "metadata": {
    "colab": {
     "base_uri": "https://localhost:8080/"
    },
    "executionInfo": {
     "elapsed": 17,
     "status": "ok",
     "timestamp": 1748582143805,
     "user": {
      "displayName": "Mohamedashraf Elgazar",
      "userId": "00875518360043549608"
     },
     "user_tz": -180
    },
    "id": "SSw7Hmnav2dI",
    "outputId": "a435c0c3-933a-4ea1-f7c5-bf0e47c13d49"
   },
   "outputs": [
    {
     "name": "stdout",
     "output_type": "stream",
     "text": [
      "Average Yearly Bonus: 6126618\n",
      "Nulls after filling: 0\n"
     ]
    }
   ],
   "source": [
    "# Step 1: Convert 'Yearly bonus' to numeric, coerce errors to NaN\n",
    "df2020_cleaned['Yearly bonus '] = pd.to_numeric(df2020_cleaned['Yearly bonus '], errors='coerce')\n",
    "\n",
    "# Step 2: Calculate average (mean) of non-null values\n",
    "avg_bonus = df2020_cleaned['Yearly bonus '].mean()\n",
    "\n",
    "# Step 3: Fill nulls with the average and round to nearest integer\n",
    "df2020_cleaned['Yearly bonus '] = df2020_cleaned['Yearly bonus '].fillna(round(avg_bonus))\n",
    "\n",
    "# Optional: Print results\n",
    "print(f\"Average Yearly Bonus: {round(avg_bonus)}\")\n",
    "print(\"Nulls after filling:\", df2020_cleaned['Yearly bonus '].isnull().sum())"
   ]
  },
  {
   "cell_type": "code",
   "execution_count": null,
   "metadata": {
    "colab": {
     "base_uri": "https://localhost:8080/"
    },
    "executionInfo": {
     "elapsed": 16,
     "status": "ok",
     "timestamp": 1748582144577,
     "user": {
      "displayName": "Mohamedashraf Elgazar",
      "userId": "00875518360043549608"
     },
     "user_tz": -180
    },
    "id": "eWsWHh3pwJVE",
    "outputId": "8b8d36cf-d488-4490-cc1d-935986f99940"
   },
   "outputs": [
    {
     "name": "stdout",
     "output_type": "stream",
     "text": [
      "Nulls in 'Number of vacation days' after filling: 0\n",
      "Average number of vacation days: 28\n"
     ]
    }
   ],
   "source": [
    "# Step 1: Convert column to numeric, coerce errors to NaN\n",
    "df2020_cleaned['Number of vacation days'] = pd.to_numeric(df2020_cleaned['Number of vacation days'], errors='coerce')\n",
    "\n",
    "# Step 2: Calculate average (mean) of non-null values\n",
    "avg_vacation_days = df2020_cleaned['Number of vacation days'].mean()\n",
    "\n",
    "# Step 3: Fill nulls with the average and round to nearest integer\n",
    "df2020_cleaned['Number of vacation days'] = df2020_cleaned['Number of vacation days'].fillna(round(avg_vacation_days))\n",
    "\n",
    "# Optional: Convert to integer type\n",
    "df2020_cleaned['Number of vacation days'] = df2020_cleaned['Number of vacation days'].astype(int)\n",
    "\n",
    "# Confirm no more nulls\n",
    "null_count = df2020_cleaned['Number of vacation days'].isnull().sum()\n",
    "print(f\"Nulls in 'Number of vacation days' after filling: {null_count}\")\n",
    "print(f\"Average number of vacation days: {round(avg_vacation_days)}\")"
   ]
  },
  {
   "cell_type": "code",
   "execution_count": null,
   "metadata": {
    "colab": {
     "base_uri": "https://localhost:8080/"
    },
    "executionInfo": {
     "elapsed": 20,
     "status": "ok",
     "timestamp": 1748582146140,
     "user": {
      "displayName": "Mohamedashraf Elgazar",
      "userId": "00875518360043549608"
     },
     "user_tz": -180
    },
    "id": "5uHw-EB2w4mK",
    "outputId": "6e10328d-69fd-4b64-9437-1c60226bab65"
   },
   "outputs": [
    {
     "name": "stdout",
     "output_type": "stream",
     "text": [
      "<class 'pandas.core.frame.DataFrame'>\n",
      "RangeIndex: 1248 entries, 0 to 1247\n",
      "Data columns (total 16 columns):\n",
      " #   Column                     Non-Null Count  Dtype  \n",
      "---  ------                     --------------  -----  \n",
      " 0   Timestamp                  1248 non-null   object \n",
      " 1   Age                        1248 non-null   float64\n",
      " 2   Gender                     1248 non-null   object \n",
      " 3   City                       1248 non-null   object \n",
      " 4   Position                   1248 non-null   object \n",
      " 5   Total years of experience  1248 non-null   int64  \n",
      " 6   Seniority level            1248 non-null   object \n",
      " 7   main technology            1248 non-null   object \n",
      " 8   Yearly salary              1248 non-null   float64\n",
      " 9   Yearly bonus               1248 non-null   float64\n",
      " 10  Number of vacation days    1248 non-null   int64  \n",
      " 11  Employment status          1231 non-null   object \n",
      " 12  Contract duration          1219 non-null   object \n",
      " 13  Main language at work      1232 non-null   object \n",
      " 14  Company type               1223 non-null   object \n",
      " 15  Company business sector    846 non-null    object \n",
      "dtypes: float64(3), int64(2), object(11)\n",
      "memory usage: 156.1+ KB\n"
     ]
    }
   ],
   "source": [
    "df2020_cleaned.info()"
   ]
  },
  {
   "cell_type": "code",
   "execution_count": null,
   "metadata": {
    "id": "dFnYMnn1yRz8"
   },
   "outputs": [],
   "source": [
    "df2020_cleaned.columns = df2020_cleaned.columns.str.strip()\n",
    "df2020_cleaned['Employment status'] = df2020_cleaned['Employment status'].fillna('No data')"
   ]
  },
  {
   "cell_type": "code",
   "execution_count": null,
   "metadata": {
    "colab": {
     "base_uri": "https://localhost:8080/"
    },
    "executionInfo": {
     "elapsed": 15,
     "status": "ok",
     "timestamp": 1748582154102,
     "user": {
      "displayName": "Mohamedashraf Elgazar",
      "userId": "00875518360043549608"
     },
     "user_tz": -180
    },
    "id": "Xyfu4ZLUyquF",
    "outputId": "5c535e55-3cc3-4893-a481-0be6d19e5d7e"
   },
   "outputs": [
    {
     "name": "stdout",
     "output_type": "stream",
     "text": [
      "<class 'pandas.core.frame.DataFrame'>\n",
      "RangeIndex: 1248 entries, 0 to 1247\n",
      "Data columns (total 16 columns):\n",
      " #   Column                     Non-Null Count  Dtype  \n",
      "---  ------                     --------------  -----  \n",
      " 0   Timestamp                  1248 non-null   object \n",
      " 1   Age                        1248 non-null   float64\n",
      " 2   Gender                     1248 non-null   object \n",
      " 3   City                       1248 non-null   object \n",
      " 4   Position                   1248 non-null   object \n",
      " 5   Total years of experience  1248 non-null   int64  \n",
      " 6   Seniority level            1248 non-null   object \n",
      " 7   main technology            1248 non-null   object \n",
      " 8   Yearly salary              1248 non-null   float64\n",
      " 9   Yearly bonus               1248 non-null   float64\n",
      " 10  Number of vacation days    1248 non-null   int64  \n",
      " 11  Employment status          1248 non-null   object \n",
      " 12  Contract duration          1219 non-null   object \n",
      " 13  Main language at work      1232 non-null   object \n",
      " 14  Company type               1223 non-null   object \n",
      " 15  Company business sector    846 non-null    object \n",
      "dtypes: float64(3), int64(2), object(11)\n",
      "memory usage: 156.1+ KB\n"
     ]
    }
   ],
   "source": [
    "df2020_cleaned.info()"
   ]
  },
  {
   "cell_type": "code",
   "execution_count": null,
   "metadata": {
    "id": "5o0SDUsnytZt"
   },
   "outputs": [],
   "source": [
    "df2020_cleaned.columns = df2020_cleaned.columns.str.strip()\n",
    "df2020_cleaned['Contract duration'] = df2020_cleaned['Contract duration'].fillna('No data')"
   ]
  },
  {
   "cell_type": "code",
   "execution_count": null,
   "metadata": {
    "id": "iRGMmsOTzGjG"
   },
   "outputs": [],
   "source": [
    "df2020_cleaned.columns = df2020_cleaned.columns.str.strip()\n",
    "df2020_cleaned['Main language at work'] = df2020_cleaned['Main language at work'].fillna('No data')"
   ]
  },
  {
   "cell_type": "code",
   "execution_count": null,
   "metadata": {
    "id": "1Tq_QEpszTyG"
   },
   "outputs": [],
   "source": [
    "df2020_cleaned.columns = df2020_cleaned.columns.str.strip()\n",
    "df2020_cleaned['Company type'] = df2020_cleaned['Company type'].fillna('No data')"
   ]
  },
  {
   "cell_type": "code",
   "execution_count": null,
   "metadata": {
    "colab": {
     "base_uri": "https://localhost:8080/"
    },
    "executionInfo": {
     "elapsed": 27,
     "status": "ok",
     "timestamp": 1748582158011,
     "user": {
      "displayName": "Mohamedashraf Elgazar",
      "userId": "00875518360043549608"
     },
     "user_tz": -180
    },
    "id": "l4XbrzS0nC4T",
    "outputId": "436c4337-fe4e-4130-9e89-abd6b39b8929"
   },
   "outputs": [
    {
     "name": "stdout",
     "output_type": "stream",
     "text": [
      "<class 'pandas.core.frame.DataFrame'>\n",
      "RangeIndex: 1248 entries, 0 to 1247\n",
      "Data columns (total 16 columns):\n",
      " #   Column                     Non-Null Count  Dtype  \n",
      "---  ------                     --------------  -----  \n",
      " 0   Timestamp                  1248 non-null   object \n",
      " 1   Age                        1248 non-null   float64\n",
      " 2   Gender                     1248 non-null   object \n",
      " 3   City                       1248 non-null   object \n",
      " 4   Position                   1248 non-null   object \n",
      " 5   Total years of experience  1248 non-null   int64  \n",
      " 6   Seniority level            1248 non-null   object \n",
      " 7   main technology            1248 non-null   object \n",
      " 8   Yearly salary              1248 non-null   float64\n",
      " 9   Yearly bonus               1248 non-null   float64\n",
      " 10  Number of vacation days    1248 non-null   int64  \n",
      " 11  Employment status          1248 non-null   object \n",
      " 12  Contract duration          1248 non-null   object \n",
      " 13  Main language at work      1248 non-null   object \n",
      " 14  Company type               1248 non-null   object \n",
      " 15  Company business sector    846 non-null    object \n",
      "dtypes: float64(3), int64(2), object(11)\n",
      "memory usage: 156.1+ KB\n"
     ]
    }
   ],
   "source": [
    "df2020_cleaned.info()"
   ]
  },
  {
   "cell_type": "code",
   "execution_count": null,
   "metadata": {
    "colab": {
     "base_uri": "https://localhost:8080/"
    },
    "executionInfo": {
     "elapsed": 18,
     "status": "ok",
     "timestamp": 1748582172379,
     "user": {
      "displayName": "Mohamedashraf Elgazar",
      "userId": "00875518360043549608"
     },
     "user_tz": -180
    },
    "id": "eeI4u5GCIpEF",
    "outputId": "fa14cc03-fe5d-4f11-9c7f-9a202a2f8d10"
   },
   "outputs": [
    {
     "name": "stdout",
     "output_type": "stream",
     "text": [
      "Nulls in 'Company business sector' after replacement: 0\n"
     ]
    }
   ],
   "source": [
    "# Replace null values in 'Company business sector' column with 'Сommerce'\n",
    "df2020_cleaned['Company business sector'] = df2020_cleaned['Company business sector'].fillna('Сommerce')\n",
    "\n",
    "# Confirm there are no more nulls\n",
    "null_count = df2020_cleaned['Company business sector'].isnull().sum()\n",
    "print(f\"Nulls in 'Company business sector' after replacement: {null_count}\")"
   ]
  },
  {
   "cell_type": "code",
   "execution_count": null,
   "metadata": {
    "colab": {
     "base_uri": "https://localhost:8080/"
    },
    "executionInfo": {
     "elapsed": 41,
     "status": "ok",
     "timestamp": 1748582178304,
     "user": {
      "displayName": "Mohamedashraf Elgazar",
      "userId": "00875518360043549608"
     },
     "user_tz": -180
    },
    "id": "KHqI9Ycvnnvb",
    "outputId": "a5e7a458-dd51-4620-b8a3-1e3a3c326584"
   },
   "outputs": [
    {
     "name": "stdout",
     "output_type": "stream",
     "text": [
      "<class 'pandas.core.frame.DataFrame'>\n",
      "RangeIndex: 1248 entries, 0 to 1247\n",
      "Data columns (total 16 columns):\n",
      " #   Column                     Non-Null Count  Dtype  \n",
      "---  ------                     --------------  -----  \n",
      " 0   Timestamp                  1248 non-null   object \n",
      " 1   Age                        1248 non-null   float64\n",
      " 2   Gender                     1248 non-null   object \n",
      " 3   City                       1248 non-null   object \n",
      " 4   Position                   1248 non-null   object \n",
      " 5   Total years of experience  1248 non-null   int64  \n",
      " 6   Seniority level            1248 non-null   object \n",
      " 7   main technology            1248 non-null   object \n",
      " 8   Yearly salary              1248 non-null   float64\n",
      " 9   Yearly bonus               1248 non-null   float64\n",
      " 10  Number of vacation days    1248 non-null   int64  \n",
      " 11  Employment status          1248 non-null   object \n",
      " 12  Contract duration          1248 non-null   object \n",
      " 13  Main language at work      1248 non-null   object \n",
      " 14  Company type               1248 non-null   object \n",
      " 15  Company business sector    1248 non-null   object \n",
      "dtypes: float64(3), int64(2), object(11)\n",
      "memory usage: 156.1+ KB\n"
     ]
    }
   ],
   "source": [
    "df2020_cleaned.info()"
   ]
  },
  {
   "cell_type": "code",
   "execution_count": null,
   "metadata": {
    "colab": {
     "base_uri": "https://localhost:8080/",
     "height": 52
    },
    "executionInfo": {
     "elapsed": 50,
     "status": "ok",
     "timestamp": 1748541570205,
     "user": {
      "displayName": "Mohamedashraf Elgazar",
      "userId": "00875518360043549608"
     },
     "user_tz": -180
    },
    "id": "A7b9jAeX1Rsi",
    "outputId": "8b6efc40-befd-4e24-9a50-bd63e6d69b00"
   },
   "outputs": [
    {
     "name": "stdout",
     "output_type": "stream",
     "text": [
      "Click on the link below to download the cleaned CSV file:\n"
     ]
    },
    {
     "data": {
      "text/html": [
       "<a href='IT_Salary_Survey_EU_2020_Cleaned.csv' target='_blank'>IT_Salary_Survey_EU_2020_Cleaned.csv</a><br>"
      ],
      "text/plain": [
       "/content/IT_Salary_Survey_EU_2020_Cleaned.csv"
      ]
     },
     "execution_count": 337,
     "metadata": {},
     "output_type": "execute_result"
    }
   ],
   "source": [
    "# Save the cleaned DataFrame to a CSV file\n",
    "df2020_cleaned.to_csv('IT_Salary_Survey_EU_2020_Cleaned.csv', index=False)\n",
    "\n",
    "# Optional: For Jupyter Notebook or Google Colab - force download in browser\n",
    "from IPython.display import FileLink\n",
    "\n",
    "print(\"Click on the link below to download the cleaned CSV file:\")\n",
    "FileLink('IT_Salary_Survey_EU_2020_Cleaned.csv')"
   ]
  },
  {
   "cell_type": "code",
   "execution_count": null,
   "metadata": {
    "colab": {
     "base_uri": "https://localhost:8080/",
     "height": 756
    },
    "executionInfo": {
     "elapsed": 115,
     "status": "ok",
     "timestamp": 1748544324645,
     "user": {
      "displayName": "Mohamedashraf Elgazar",
      "userId": "00875518360043549608"
     },
     "user_tz": -180
    },
    "id": "SYBvgOK71dgn",
    "outputId": "14e6075f-957f-479d-9f6e-c927b1175e54"
   },
   "outputs": [
    {
     "data": {
      "application/vnd.google.colaboratory.intrinsic+json": {
       "summary": "{\n  \"name\": \"df2018\",\n  \"rows\": 765,\n  \"fields\": [\n    {\n      \"column\": \"Timestamp\",\n      \"properties\": {\n        \"dtype\": \"object\",\n        \"num_unique_values\": 63,\n        \"samples\": [\n          \"8/26/2020\",\n          \"3/11/2020\",\n          \"12/14/2018\"\n        ],\n        \"semantic_type\": \"\",\n        \"description\": \"\"\n      }\n    },\n    {\n      \"column\": \"Age\",\n      \"properties\": {\n        \"dtype\": \"number\",\n        \"std\": 5.107267637691871,\n        \"min\": 21.0,\n        \"max\": 60.0,\n        \"num_unique_values\": 33,\n        \"samples\": [\n          46.0,\n          35.0,\n          21.0\n        ],\n        \"semantic_type\": \"\",\n        \"description\": \"\"\n      }\n    },\n    {\n      \"column\": \"Gender\",\n      \"properties\": {\n        \"dtype\": \"category\",\n        \"num_unique_values\": 2,\n        \"samples\": [\n          \"F\",\n          \"M\"\n        ],\n        \"semantic_type\": \"\",\n        \"description\": \"\"\n      }\n    },\n    {\n      \"column\": \"City\",\n      \"properties\": {\n        \"dtype\": \"category\",\n        \"num_unique_values\": 74,\n        \"samples\": [\n          \"Augsburg \",\n          \"Koblenz\"\n        ],\n        \"semantic_type\": \"\",\n        \"description\": \"\"\n      }\n    },\n    {\n      \"column\": \"Position\",\n      \"properties\": {\n        \"dtype\": \"string\",\n        \"num_unique_values\": 397,\n        \"samples\": [\n          \"Database Administrator\",\n          \"Senior Software engineer\"\n        ],\n        \"semantic_type\": \"\",\n        \"description\": \"\"\n      }\n    },\n    {\n      \"column\": \"Years of experience\",\n      \"properties\": {\n        \"dtype\": \"number\",\n        \"std\": 4.729557255070927,\n        \"min\": 0.0,\n        \"max\": 38.0,\n        \"num_unique_values\": 30,\n        \"samples\": [\n          38.0,\n          7.0\n        ],\n        \"semantic_type\": \"\",\n        \"description\": \"\"\n      }\n    },\n    {\n      \"column\": \"Seniority level\",\n      \"properties\": {\n        \"dtype\": \"category\",\n        \"num_unique_values\": 3,\n        \"samples\": [\n          \"Senior\",\n          \"Middle\"\n        ],\n        \"semantic_type\": \"\",\n        \"description\": \"\"\n      }\n    },\n    {\n      \"column\": \"main technology\",\n      \"properties\": {\n        \"dtype\": \"category\",\n        \"num_unique_values\": 33,\n        \"samples\": [\n          \"Cobol\",\n          \"Yaml\"\n        ],\n        \"semantic_type\": \"\",\n        \"description\": \"\"\n      }\n    },\n    {\n      \"column\": \"Yearly salary \",\n      \"properties\": {\n        \"dtype\": \"number\",\n        \"std\": 21196.30655727135,\n        \"min\": 10300.0,\n        \"max\": 200000.0,\n        \"num_unique_values\": 139,\n        \"samples\": [\n          80400.0,\n          125000.0\n        ],\n        \"semantic_type\": \"\",\n        \"description\": \"\"\n      }\n    },\n    {\n      \"column\": \"Yearly bonus\",\n      \"properties\": {\n        \"dtype\": \"number\",\n        \"std\": 10900.551595703928,\n        \"min\": 0.0,\n        \"max\": 80000.0,\n        \"num_unique_values\": 79,\n        \"samples\": [\n          55000.0,\n          1000.0\n        ],\n        \"semantic_type\": \"\",\n        \"description\": \"\"\n      }\n    },\n    {\n      \"column\": \"Number of vacation days\",\n      \"properties\": {\n        \"dtype\": \"number\",\n        \"std\": 4.715279287003349,\n        \"min\": 4.0,\n        \"max\": 100.0,\n        \"num_unique_values\": 28,\n        \"samples\": [\n          20.0,\n          75.0\n        ],\n        \"semantic_type\": \"\",\n        \"description\": \"\"\n      }\n    },\n    {\n      \"column\": \"Main language at work\",\n      \"properties\": {\n        \"dtype\": \"category\",\n        \"num_unique_values\": 7,\n        \"samples\": [\n          \"Deutsch\",\n          \"English\"\n        ],\n        \"semantic_type\": \"\",\n        \"description\": \"\"\n      }\n    },\n    {\n      \"column\": \"Unnamed: 12\",\n      \"properties\": {\n        \"dtype\": \"number\",\n        \"std\": null,\n        \"min\": null,\n        \"max\": null,\n        \"num_unique_values\": 0,\n        \"samples\": [],\n        \"semantic_type\": \"\",\n        \"description\": \"\"\n      }\n    },\n    {\n      \"column\": \"Company type\",\n      \"properties\": {\n        \"dtype\": \"category\",\n        \"num_unique_values\": 49,\n        \"samples\": [],\n        \"semantic_type\": \"\",\n        \"description\": \"\"\n      }\n    },\n    {\n      \"column\": \"Contract duration\",\n      \"properties\": {\n        \"dtype\": \"category\",\n        \"num_unique_values\": 6,\n        \"samples\": [],\n        \"semantic_type\": \"\",\n        \"description\": \"\"\n      }\n    },\n    {\n      \"column\": \"Employment status\",\n      \"properties\": {\n        \"dtype\": \"category\",\n        \"num_unique_values\": 6,\n        \"samples\": [],\n        \"semantic_type\": \"\",\n        \"description\": \"\"\n      }\n    },\n    {\n      \"column\": \"Unnamed: 16\",\n      \"properties\": {\n        \"dtype\": \"number\",\n        \"std\": null,\n        \"min\": null,\n        \"max\": null,\n        \"num_unique_values\": 0,\n        \"samples\": [],\n        \"semantic_type\": \"\",\n        \"description\": \"\"\n      }\n    },\n    {\n      \"column\": \"Company business sector\",\n      \"properties\": {\n        \"dtype\": \"category\",\n        \"num_unique_values\": 39,\n        \"samples\": [],\n        \"semantic_type\": \"\",\n        \"description\": \"\"\n      }\n    }\n  ]\n}",
       "type": "dataframe",
       "variable_name": "df2018"
      },
      "text/html": [
       "\n",
       "  <div id=\"df-af8556eb-1d55-478e-b062-f8caa2b46030\" class=\"colab-df-container\">\n",
       "    <div>\n",
       "<style scoped>\n",
       "    .dataframe tbody tr th:only-of-type {\n",
       "        vertical-align: middle;\n",
       "    }\n",
       "\n",
       "    .dataframe tbody tr th {\n",
       "        vertical-align: top;\n",
       "    }\n",
       "\n",
       "    .dataframe thead th {\n",
       "        text-align: right;\n",
       "    }\n",
       "</style>\n",
       "<table border=\"1\" class=\"dataframe\">\n",
       "  <thead>\n",
       "    <tr style=\"text-align: right;\">\n",
       "      <th></th>\n",
       "      <th>Timestamp</th>\n",
       "      <th>Age</th>\n",
       "      <th>Gender</th>\n",
       "      <th>City</th>\n",
       "      <th>Position</th>\n",
       "      <th>Years of experience</th>\n",
       "      <th>Seniority level</th>\n",
       "      <th>main technology</th>\n",
       "      <th>Yearly salary</th>\n",
       "      <th>Yearly bonus</th>\n",
       "      <th>Number of vacation days</th>\n",
       "      <th>Main language at work</th>\n",
       "      <th>Unnamed: 12</th>\n",
       "      <th>Company type</th>\n",
       "      <th>Contract duration</th>\n",
       "      <th>Employment status</th>\n",
       "      <th>Unnamed: 16</th>\n",
       "      <th>Company business sector</th>\n",
       "    </tr>\n",
       "  </thead>\n",
       "  <tbody>\n",
       "    <tr>\n",
       "      <th>0</th>\n",
       "      <td>12/14/2018</td>\n",
       "      <td>43.0</td>\n",
       "      <td>M</td>\n",
       "      <td>München</td>\n",
       "      <td>QA Ingenieur</td>\n",
       "      <td>11.0</td>\n",
       "      <td>Senior</td>\n",
       "      <td>PHP</td>\n",
       "      <td>77000.0</td>\n",
       "      <td>1000.0</td>\n",
       "      <td>29.0</td>\n",
       "      <td>Deutsch</td>\n",
       "      <td>NaN</td>\n",
       "      <td>Product</td>\n",
       "      <td>unlimited</td>\n",
       "      <td>Full-time employee</td>\n",
       "      <td>NaN</td>\n",
       "      <td>Tourism</td>\n",
       "    </tr>\n",
       "    <tr>\n",
       "      <th>1</th>\n",
       "      <td>12/14/2018</td>\n",
       "      <td>33.0</td>\n",
       "      <td>F</td>\n",
       "      <td>München</td>\n",
       "      <td>Senior PHP Magento developer</td>\n",
       "      <td>8.0</td>\n",
       "      <td>Senior</td>\n",
       "      <td>Python</td>\n",
       "      <td>65000.0</td>\n",
       "      <td>NaN</td>\n",
       "      <td>22.0</td>\n",
       "      <td>Deutsch</td>\n",
       "      <td>NaN</td>\n",
       "      <td>Product</td>\n",
       "      <td>unlimited</td>\n",
       "      <td>Full-time employee</td>\n",
       "      <td>NaN</td>\n",
       "      <td>Scientific Activities</td>\n",
       "    </tr>\n",
       "    <tr>\n",
       "      <th>2</th>\n",
       "      <td>12/14/2018</td>\n",
       "      <td>32.0</td>\n",
       "      <td>M</td>\n",
       "      <td>München</td>\n",
       "      <td>Software Engineer</td>\n",
       "      <td>10.0</td>\n",
       "      <td>Senior</td>\n",
       "      <td>Kotlin</td>\n",
       "      <td>88000.0</td>\n",
       "      <td>NaN</td>\n",
       "      <td>27.0</td>\n",
       "      <td>Deutsch</td>\n",
       "      <td>NaN</td>\n",
       "      <td>Product</td>\n",
       "      <td>unlimited</td>\n",
       "      <td>Self-employed (freelancer)</td>\n",
       "      <td>NaN</td>\n",
       "      <td>NaN</td>\n",
       "    </tr>\n",
       "    <tr>\n",
       "      <th>3</th>\n",
       "      <td>12/14/2018</td>\n",
       "      <td>25.0</td>\n",
       "      <td>M</td>\n",
       "      <td>München</td>\n",
       "      <td>Senior Frontend Developer</td>\n",
       "      <td>6.0</td>\n",
       "      <td>Senior</td>\n",
       "      <td>PHP</td>\n",
       "      <td>78000.0</td>\n",
       "      <td>NaN</td>\n",
       "      <td>24.0</td>\n",
       "      <td>English</td>\n",
       "      <td>NaN</td>\n",
       "      <td>Product</td>\n",
       "      <td>unlimited</td>\n",
       "      <td>Full-time employee</td>\n",
       "      <td>NaN</td>\n",
       "      <td>Transport</td>\n",
       "    </tr>\n",
       "    <tr>\n",
       "      <th>4</th>\n",
       "      <td>12/14/2018</td>\n",
       "      <td>39.0</td>\n",
       "      <td>M</td>\n",
       "      <td>München</td>\n",
       "      <td>UX Designer</td>\n",
       "      <td>10.0</td>\n",
       "      <td>Senior</td>\n",
       "      <td>C/C++</td>\n",
       "      <td>69000.0</td>\n",
       "      <td>NaN</td>\n",
       "      <td>30.0</td>\n",
       "      <td>English</td>\n",
       "      <td>NaN</td>\n",
       "      <td>Ecom retailer</td>\n",
       "      <td>unlimited</td>\n",
       "      <td>Full-time employee</td>\n",
       "      <td>NaN</td>\n",
       "      <td>Automotive</td>\n",
       "    </tr>\n",
       "    <tr>\n",
       "      <th>...</th>\n",
       "      <td>...</td>\n",
       "      <td>...</td>\n",
       "      <td>...</td>\n",
       "      <td>...</td>\n",
       "      <td>...</td>\n",
       "      <td>...</td>\n",
       "      <td>...</td>\n",
       "      <td>...</td>\n",
       "      <td>...</td>\n",
       "      <td>...</td>\n",
       "      <td>...</td>\n",
       "      <td>...</td>\n",
       "      <td>...</td>\n",
       "      <td>...</td>\n",
       "      <td>...</td>\n",
       "      <td>...</td>\n",
       "      <td>...</td>\n",
       "      <td>...</td>\n",
       "    </tr>\n",
       "    <tr>\n",
       "      <th>760</th>\n",
       "      <td>6/3/2020</td>\n",
       "      <td>40.0</td>\n",
       "      <td>M</td>\n",
       "      <td>Köln</td>\n",
       "      <td>Java Developer junior</td>\n",
       "      <td>1.0</td>\n",
       "      <td>Junior</td>\n",
       "      <td>.NET</td>\n",
       "      <td>44000.0</td>\n",
       "      <td>NaN</td>\n",
       "      <td>30.0</td>\n",
       "      <td>Deutsch</td>\n",
       "      <td>NaN</td>\n",
       "      <td>Product</td>\n",
       "      <td>unlimited</td>\n",
       "      <td>Full-time employee</td>\n",
       "      <td>NaN</td>\n",
       "      <td>Transport</td>\n",
       "    </tr>\n",
       "    <tr>\n",
       "      <th>761</th>\n",
       "      <td>7/28/2020</td>\n",
       "      <td>NaN</td>\n",
       "      <td>M</td>\n",
       "      <td>Köln</td>\n",
       "      <td>E.g. C# Developer</td>\n",
       "      <td>1.0</td>\n",
       "      <td>Junior</td>\n",
       "      <td>Python</td>\n",
       "      <td>45000.0</td>\n",
       "      <td>5500.0</td>\n",
       "      <td>30.0</td>\n",
       "      <td>Deutsch</td>\n",
       "      <td>NaN</td>\n",
       "      <td>Product</td>\n",
       "      <td>unlimited</td>\n",
       "      <td>Full-time employee</td>\n",
       "      <td>NaN</td>\n",
       "      <td>Transport</td>\n",
       "    </tr>\n",
       "    <tr>\n",
       "      <th>762</th>\n",
       "      <td>7/28/2020</td>\n",
       "      <td>NaN</td>\n",
       "      <td>M</td>\n",
       "      <td>Köln</td>\n",
       "      <td>E.g. C# Developer</td>\n",
       "      <td>1.0</td>\n",
       "      <td>Junior</td>\n",
       "      <td>Not Relevant</td>\n",
       "      <td>45000.0</td>\n",
       "      <td>10000.0</td>\n",
       "      <td>26.0</td>\n",
       "      <td>Deutsch</td>\n",
       "      <td>NaN</td>\n",
       "      <td>Product</td>\n",
       "      <td>unlimited</td>\n",
       "      <td>Full-time employee</td>\n",
       "      <td>NaN</td>\n",
       "      <td>Tourism</td>\n",
       "    </tr>\n",
       "    <tr>\n",
       "      <th>763</th>\n",
       "      <td>8/26/2020</td>\n",
       "      <td>NaN</td>\n",
       "      <td>NaN</td>\n",
       "      <td>NaN</td>\n",
       "      <td>NaN</td>\n",
       "      <td>NaN</td>\n",
       "      <td>NaN</td>\n",
       "      <td>R</td>\n",
       "      <td>NaN</td>\n",
       "      <td>0.0</td>\n",
       "      <td>25.0</td>\n",
       "      <td>NaN</td>\n",
       "      <td>NaN</td>\n",
       "      <td>NaN</td>\n",
       "      <td>unlimited</td>\n",
       "      <td>Full-time employee</td>\n",
       "      <td>NaN</td>\n",
       "      <td>Сommerce</td>\n",
       "    </tr>\n",
       "    <tr>\n",
       "      <th>764</th>\n",
       "      <td>9/21/2020</td>\n",
       "      <td>31.0</td>\n",
       "      <td>F</td>\n",
       "      <td>München</td>\n",
       "      <td>Pm</td>\n",
       "      <td>10.0</td>\n",
       "      <td>Senior</td>\n",
       "      <td>Not Relevant</td>\n",
       "      <td>110000.0</td>\n",
       "      <td>NaN</td>\n",
       "      <td>24.0</td>\n",
       "      <td>English</td>\n",
       "      <td>NaN</td>\n",
       "      <td>Product</td>\n",
       "      <td>unlimited</td>\n",
       "      <td>Full-time employee</td>\n",
       "      <td>NaN</td>\n",
       "      <td>Transport</td>\n",
       "    </tr>\n",
       "  </tbody>\n",
       "</table>\n",
       "<p>765 rows × 18 columns</p>\n",
       "</div>\n",
       "    <div class=\"colab-df-buttons\">\n",
       "\n",
       "  <div class=\"colab-df-container\">\n",
       "    <button class=\"colab-df-convert\" onclick=\"convertToInteractive('df-af8556eb-1d55-478e-b062-f8caa2b46030')\"\n",
       "            title=\"Convert this dataframe to an interactive table.\"\n",
       "            style=\"display:none;\">\n",
       "\n",
       "  <svg xmlns=\"http://www.w3.org/2000/svg\" height=\"24px\" viewBox=\"0 -960 960 960\">\n",
       "    <path d=\"M120-120v-720h720v720H120Zm60-500h600v-160H180v160Zm220 220h160v-160H400v160Zm0 220h160v-160H400v160ZM180-400h160v-160H180v160Zm440 0h160v-160H620v160ZM180-180h160v-160H180v160Zm440 0h160v-160H620v160Z\"/>\n",
       "  </svg>\n",
       "    </button>\n",
       "\n",
       "  <style>\n",
       "    .colab-df-container {\n",
       "      display:flex;\n",
       "      gap: 12px;\n",
       "    }\n",
       "\n",
       "    .colab-df-convert {\n",
       "      background-color: #E8F0FE;\n",
       "      border: none;\n",
       "      border-radius: 50%;\n",
       "      cursor: pointer;\n",
       "      display: none;\n",
       "      fill: #1967D2;\n",
       "      height: 32px;\n",
       "      padding: 0 0 0 0;\n",
       "      width: 32px;\n",
       "    }\n",
       "\n",
       "    .colab-df-convert:hover {\n",
       "      background-color: #E2EBFA;\n",
       "      box-shadow: 0px 1px 2px rgba(60, 64, 67, 0.3), 0px 1px 3px 1px rgba(60, 64, 67, 0.15);\n",
       "      fill: #174EA6;\n",
       "    }\n",
       "\n",
       "    .colab-df-buttons div {\n",
       "      margin-bottom: 4px;\n",
       "    }\n",
       "\n",
       "    [theme=dark] .colab-df-convert {\n",
       "      background-color: #3B4455;\n",
       "      fill: #D2E3FC;\n",
       "    }\n",
       "\n",
       "    [theme=dark] .colab-df-convert:hover {\n",
       "      background-color: #434B5C;\n",
       "      box-shadow: 0px 1px 3px 1px rgba(0, 0, 0, 0.15);\n",
       "      filter: drop-shadow(0px 1px 2px rgba(0, 0, 0, 0.3));\n",
       "      fill: #FFFFFF;\n",
       "    }\n",
       "  </style>\n",
       "\n",
       "    <script>\n",
       "      const buttonEl =\n",
       "        document.querySelector('#df-af8556eb-1d55-478e-b062-f8caa2b46030 button.colab-df-convert');\n",
       "      buttonEl.style.display =\n",
       "        google.colab.kernel.accessAllowed ? 'block' : 'none';\n",
       "\n",
       "      async function convertToInteractive(key) {\n",
       "        const element = document.querySelector('#df-af8556eb-1d55-478e-b062-f8caa2b46030');\n",
       "        const dataTable =\n",
       "          await google.colab.kernel.invokeFunction('convertToInteractive',\n",
       "                                                    [key], {});\n",
       "        if (!dataTable) return;\n",
       "\n",
       "        const docLinkHtml = 'Like what you see? Visit the ' +\n",
       "          '<a target=\"_blank\" href=https://colab.research.google.com/notebooks/data_table.ipynb>data table notebook</a>'\n",
       "          + ' to learn more about interactive tables.';\n",
       "        element.innerHTML = '';\n",
       "        dataTable['output_type'] = 'display_data';\n",
       "        await google.colab.output.renderOutput(dataTable, element);\n",
       "        const docLink = document.createElement('div');\n",
       "        docLink.innerHTML = docLinkHtml;\n",
       "        element.appendChild(docLink);\n",
       "      }\n",
       "    </script>\n",
       "  </div>\n",
       "\n",
       "\n",
       "    <div id=\"df-0930c8be-58b3-46f8-91d4-52f269b85bea\">\n",
       "      <button class=\"colab-df-quickchart\" onclick=\"quickchart('df-0930c8be-58b3-46f8-91d4-52f269b85bea')\"\n",
       "                title=\"Suggest charts\"\n",
       "                style=\"display:none;\">\n",
       "\n",
       "<svg xmlns=\"http://www.w3.org/2000/svg\" height=\"24px\"viewBox=\"0 0 24 24\"\n",
       "     width=\"24px\">\n",
       "    <g>\n",
       "        <path d=\"M19 3H5c-1.1 0-2 .9-2 2v14c0 1.1.9 2 2 2h14c1.1 0 2-.9 2-2V5c0-1.1-.9-2-2-2zM9 17H7v-7h2v7zm4 0h-2V7h2v10zm4 0h-2v-4h2v4z\"/>\n",
       "    </g>\n",
       "</svg>\n",
       "      </button>\n",
       "\n",
       "<style>\n",
       "  .colab-df-quickchart {\n",
       "      --bg-color: #E8F0FE;\n",
       "      --fill-color: #1967D2;\n",
       "      --hover-bg-color: #E2EBFA;\n",
       "      --hover-fill-color: #174EA6;\n",
       "      --disabled-fill-color: #AAA;\n",
       "      --disabled-bg-color: #DDD;\n",
       "  }\n",
       "\n",
       "  [theme=dark] .colab-df-quickchart {\n",
       "      --bg-color: #3B4455;\n",
       "      --fill-color: #D2E3FC;\n",
       "      --hover-bg-color: #434B5C;\n",
       "      --hover-fill-color: #FFFFFF;\n",
       "      --disabled-bg-color: #3B4455;\n",
       "      --disabled-fill-color: #666;\n",
       "  }\n",
       "\n",
       "  .colab-df-quickchart {\n",
       "    background-color: var(--bg-color);\n",
       "    border: none;\n",
       "    border-radius: 50%;\n",
       "    cursor: pointer;\n",
       "    display: none;\n",
       "    fill: var(--fill-color);\n",
       "    height: 32px;\n",
       "    padding: 0;\n",
       "    width: 32px;\n",
       "  }\n",
       "\n",
       "  .colab-df-quickchart:hover {\n",
       "    background-color: var(--hover-bg-color);\n",
       "    box-shadow: 0 1px 2px rgba(60, 64, 67, 0.3), 0 1px 3px 1px rgba(60, 64, 67, 0.15);\n",
       "    fill: var(--button-hover-fill-color);\n",
       "  }\n",
       "\n",
       "  .colab-df-quickchart-complete:disabled,\n",
       "  .colab-df-quickchart-complete:disabled:hover {\n",
       "    background-color: var(--disabled-bg-color);\n",
       "    fill: var(--disabled-fill-color);\n",
       "    box-shadow: none;\n",
       "  }\n",
       "\n",
       "  .colab-df-spinner {\n",
       "    border: 2px solid var(--fill-color);\n",
       "    border-color: transparent;\n",
       "    border-bottom-color: var(--fill-color);\n",
       "    animation:\n",
       "      spin 1s steps(1) infinite;\n",
       "  }\n",
       "\n",
       "  @keyframes spin {\n",
       "    0% {\n",
       "      border-color: transparent;\n",
       "      border-bottom-color: var(--fill-color);\n",
       "      border-left-color: var(--fill-color);\n",
       "    }\n",
       "    20% {\n",
       "      border-color: transparent;\n",
       "      border-left-color: var(--fill-color);\n",
       "      border-top-color: var(--fill-color);\n",
       "    }\n",
       "    30% {\n",
       "      border-color: transparent;\n",
       "      border-left-color: var(--fill-color);\n",
       "      border-top-color: var(--fill-color);\n",
       "      border-right-color: var(--fill-color);\n",
       "    }\n",
       "    40% {\n",
       "      border-color: transparent;\n",
       "      border-right-color: var(--fill-color);\n",
       "      border-top-color: var(--fill-color);\n",
       "    }\n",
       "    60% {\n",
       "      border-color: transparent;\n",
       "      border-right-color: var(--fill-color);\n",
       "    }\n",
       "    80% {\n",
       "      border-color: transparent;\n",
       "      border-right-color: var(--fill-color);\n",
       "      border-bottom-color: var(--fill-color);\n",
       "    }\n",
       "    90% {\n",
       "      border-color: transparent;\n",
       "      border-bottom-color: var(--fill-color);\n",
       "    }\n",
       "  }\n",
       "</style>\n",
       "\n",
       "      <script>\n",
       "        async function quickchart(key) {\n",
       "          const quickchartButtonEl =\n",
       "            document.querySelector('#' + key + ' button');\n",
       "          quickchartButtonEl.disabled = true;  // To prevent multiple clicks.\n",
       "          quickchartButtonEl.classList.add('colab-df-spinner');\n",
       "          try {\n",
       "            const charts = await google.colab.kernel.invokeFunction(\n",
       "                'suggestCharts', [key], {});\n",
       "          } catch (error) {\n",
       "            console.error('Error during call to suggestCharts:', error);\n",
       "          }\n",
       "          quickchartButtonEl.classList.remove('colab-df-spinner');\n",
       "          quickchartButtonEl.classList.add('colab-df-quickchart-complete');\n",
       "        }\n",
       "        (() => {\n",
       "          let quickchartButtonEl =\n",
       "            document.querySelector('#df-0930c8be-58b3-46f8-91d4-52f269b85bea button');\n",
       "          quickchartButtonEl.style.display =\n",
       "            google.colab.kernel.accessAllowed ? 'block' : 'none';\n",
       "        })();\n",
       "      </script>\n",
       "    </div>\n",
       "\n",
       "  <div id=\"id_a6528fd1-e863-4f7b-85ee-74c3e751600f\">\n",
       "    <style>\n",
       "      .colab-df-generate {\n",
       "        background-color: #E8F0FE;\n",
       "        border: none;\n",
       "        border-radius: 50%;\n",
       "        cursor: pointer;\n",
       "        display: none;\n",
       "        fill: #1967D2;\n",
       "        height: 32px;\n",
       "        padding: 0 0 0 0;\n",
       "        width: 32px;\n",
       "      }\n",
       "\n",
       "      .colab-df-generate:hover {\n",
       "        background-color: #E2EBFA;\n",
       "        box-shadow: 0px 1px 2px rgba(60, 64, 67, 0.3), 0px 1px 3px 1px rgba(60, 64, 67, 0.15);\n",
       "        fill: #174EA6;\n",
       "      }\n",
       "\n",
       "      [theme=dark] .colab-df-generate {\n",
       "        background-color: #3B4455;\n",
       "        fill: #D2E3FC;\n",
       "      }\n",
       "\n",
       "      [theme=dark] .colab-df-generate:hover {\n",
       "        background-color: #434B5C;\n",
       "        box-shadow: 0px 1px 3px 1px rgba(0, 0, 0, 0.15);\n",
       "        filter: drop-shadow(0px 1px 2px rgba(0, 0, 0, 0.3));\n",
       "        fill: #FFFFFF;\n",
       "      }\n",
       "    </style>\n",
       "    <button class=\"colab-df-generate\" onclick=\"generateWithVariable('df2018')\"\n",
       "            title=\"Generate code using this dataframe.\"\n",
       "            style=\"display:none;\">\n",
       "\n",
       "  <svg xmlns=\"http://www.w3.org/2000/svg\" height=\"24px\"viewBox=\"0 0 24 24\"\n",
       "       width=\"24px\">\n",
       "    <path d=\"M7,19H8.4L18.45,9,17,7.55,7,17.6ZM5,21V16.75L18.45,3.32a2,2,0,0,1,2.83,0l1.4,1.43a1.91,1.91,0,0,1,.58,1.4,1.91,1.91,0,0,1-.58,1.4L9.25,21ZM18.45,9,17,7.55Zm-12,3A5.31,5.31,0,0,0,4.9,8.1,5.31,5.31,0,0,0,1,6.5,5.31,5.31,0,0,0,4.9,4.9,5.31,5.31,0,0,0,6.5,1,5.31,5.31,0,0,0,8.1,4.9,5.31,5.31,0,0,0,12,6.5,5.46,5.46,0,0,0,6.5,12Z\"/>\n",
       "  </svg>\n",
       "    </button>\n",
       "    <script>\n",
       "      (() => {\n",
       "      const buttonEl =\n",
       "        document.querySelector('#id_a6528fd1-e863-4f7b-85ee-74c3e751600f button.colab-df-generate');\n",
       "      buttonEl.style.display =\n",
       "        google.colab.kernel.accessAllowed ? 'block' : 'none';\n",
       "\n",
       "      buttonEl.onclick = () => {\n",
       "        google.colab.notebook.generateWithVariable('df2018');\n",
       "      }\n",
       "      })();\n",
       "    </script>\n",
       "  </div>\n",
       "\n",
       "    </div>\n",
       "  </div>\n"
      ],
      "text/plain": [
       "      Timestamp   Age Gender     City                       Position  \\\n",
       "0    12/14/2018  43.0      M  München                   QA Ingenieur   \n",
       "1    12/14/2018  33.0      F  München  Senior PHP Magento developer    \n",
       "2    12/14/2018  32.0      M  München              Software Engineer   \n",
       "3    12/14/2018  25.0      M  München      Senior Frontend Developer   \n",
       "4    12/14/2018  39.0      M  München                    UX Designer   \n",
       "..          ...   ...    ...      ...                            ...   \n",
       "760    6/3/2020  40.0      M     Köln          Java Developer junior   \n",
       "761   7/28/2020   NaN      M     Köln              E.g. C# Developer   \n",
       "762   7/28/2020   NaN      M     Köln              E.g. C# Developer   \n",
       "763   8/26/2020   NaN    NaN      NaN                            NaN   \n",
       "764   9/21/2020  31.0      F  München                            Pm    \n",
       "\n",
       "     Years of experience Seniority level main technology  Yearly salary   \\\n",
       "0                   11.0          Senior             PHP         77000.0   \n",
       "1                    8.0          Senior          Python         65000.0   \n",
       "2                   10.0          Senior          Kotlin         88000.0   \n",
       "3                    6.0          Senior             PHP         78000.0   \n",
       "4                   10.0          Senior           C/C++         69000.0   \n",
       "..                   ...             ...             ...             ...   \n",
       "760                  1.0          Junior            .NET         44000.0   \n",
       "761                  1.0          Junior          Python         45000.0   \n",
       "762                  1.0          Junior    Not Relevant         45000.0   \n",
       "763                  NaN             NaN               R             NaN   \n",
       "764                 10.0          Senior    Not Relevant        110000.0   \n",
       "\n",
       "     Yearly bonus  Number of vacation days Main language at work  Unnamed: 12  \\\n",
       "0          1000.0                     29.0               Deutsch          NaN   \n",
       "1             NaN                     22.0               Deutsch          NaN   \n",
       "2             NaN                     27.0               Deutsch          NaN   \n",
       "3             NaN                     24.0               English          NaN   \n",
       "4             NaN                     30.0               English          NaN   \n",
       "..            ...                      ...                   ...          ...   \n",
       "760           NaN                     30.0               Deutsch          NaN   \n",
       "761        5500.0                     30.0               Deutsch          NaN   \n",
       "762       10000.0                     26.0               Deutsch          NaN   \n",
       "763           0.0                     25.0                   NaN          NaN   \n",
       "764           NaN                     24.0               English          NaN   \n",
       "\n",
       "      Company type Contract duration           Employment status  Unnamed: 16  \\\n",
       "0          Product         unlimited          Full-time employee          NaN   \n",
       "1          Product         unlimited          Full-time employee          NaN   \n",
       "2          Product         unlimited  Self-employed (freelancer)          NaN   \n",
       "3          Product         unlimited          Full-time employee          NaN   \n",
       "4    Ecom retailer         unlimited          Full-time employee          NaN   \n",
       "..             ...               ...                         ...          ...   \n",
       "760        Product         unlimited          Full-time employee          NaN   \n",
       "761        Product         unlimited          Full-time employee          NaN   \n",
       "762        Product         unlimited          Full-time employee          NaN   \n",
       "763            NaN         unlimited          Full-time employee          NaN   \n",
       "764        Product         unlimited          Full-time employee          NaN   \n",
       "\n",
       "    Company business sector  \n",
       "0                   Tourism  \n",
       "1     Scientific Activities  \n",
       "2                       NaN  \n",
       "3                 Transport  \n",
       "4                Automotive  \n",
       "..                      ...  \n",
       "760               Transport  \n",
       "761               Transport  \n",
       "762                 Tourism  \n",
       "763                Сommerce  \n",
       "764               Transport  \n",
       "\n",
       "[765 rows x 18 columns]"
      ]
     },
     "execution_count": 421,
     "metadata": {},
     "output_type": "execute_result"
    }
   ],
   "source": [
    "df2018 = pd.read_csv(\"/content/IT Salary 2018.csv\")\n",
    "df2018"
   ]
  },
  {
   "cell_type": "code",
   "execution_count": null,
   "metadata": {
    "colab": {
     "base_uri": "https://localhost:8080/"
    },
    "executionInfo": {
     "elapsed": 5,
     "status": "ok",
     "timestamp": 1748544325561,
     "user": {
      "displayName": "Mohamedashraf Elgazar",
      "userId": "00875518360043549608"
     },
     "user_tz": -180
    },
    "id": "OD2t2C7A3mVC",
    "outputId": "459f0a8e-2b61-4fbf-b3f2-972b34fd9e99"
   },
   "outputs": [
    {
     "name": "stdout",
     "output_type": "stream",
     "text": [
      "Number of Rows and Columns (765, 18)\n"
     ]
    }
   ],
   "source": [
    "print(\"Number of Rows and Columns\", df2018.shape)"
   ]
  },
  {
   "cell_type": "code",
   "execution_count": null,
   "metadata": {
    "colab": {
     "base_uri": "https://localhost:8080/"
    },
    "executionInfo": {
     "elapsed": 18,
     "status": "ok",
     "timestamp": 1748544326007,
     "user": {
      "displayName": "Mohamedashraf Elgazar",
      "userId": "00875518360043549608"
     },
     "user_tz": -180
    },
    "id": "4RQm_G_Y3r5x",
    "outputId": "61a47057-7d3d-4a43-b035-f0dff529ccb9"
   },
   "outputs": [
    {
     "name": "stdout",
     "output_type": "stream",
     "text": [
      "<class 'pandas.core.frame.DataFrame'>\n",
      "RangeIndex: 765 entries, 0 to 764\n",
      "Data columns (total 18 columns):\n",
      " #   Column                   Non-Null Count  Dtype  \n",
      "---  ------                   --------------  -----  \n",
      " 0   Timestamp                765 non-null    object \n",
      " 1   Age                      672 non-null    float64\n",
      " 2   Gender                   751 non-null    object \n",
      " 3   City                     736 non-null    object \n",
      " 4   Position                 737 non-null    object \n",
      " 5   Years of experience      732 non-null    float64\n",
      " 6   Seniority level          743 non-null    object \n",
      " 7   main technology          753 non-null    object \n",
      " 8   Yearly salary            750 non-null    float64\n",
      " 9   Yearly bonus             392 non-null    float64\n",
      " 10  Number of vacation days  720 non-null    float64\n",
      " 11  Main language at work    750 non-null    object \n",
      " 12  Unnamed: 12              0 non-null      float64\n",
      " 13  Company type             730 non-null    object \n",
      " 14  Contract duration        737 non-null    object \n",
      " 15  Employment status        758 non-null    object \n",
      " 16  Unnamed: 16              0 non-null      float64\n",
      " 17  Company business sector  649 non-null    object \n",
      "dtypes: float64(7), object(11)\n",
      "memory usage: 107.7+ KB\n"
     ]
    }
   ],
   "source": [
    "df2018.info()"
   ]
  },
  {
   "cell_type": "code",
   "execution_count": null,
   "metadata": {
    "colab": {
     "base_uri": "https://localhost:8080/"
    },
    "executionInfo": {
     "elapsed": 6,
     "status": "ok",
     "timestamp": 1748544326749,
     "user": {
      "displayName": "Mohamedashraf Elgazar",
      "userId": "00875518360043549608"
     },
     "user_tz": -180
    },
    "id": "ldO5s_Me3zg4",
    "outputId": "2ba9590d-878a-4aee-9100-7808da921133"
   },
   "outputs": [
    {
     "name": "stdout",
     "output_type": "stream",
     "text": [
      "Original DataFrame shape: (765, 18)\n",
      "Cleaned DataFrame shape: (765, 18)\n"
     ]
    }
   ],
   "source": [
    "# Drop rows where ALL values are NaN\n",
    "df2018_cleaned = df2018.dropna(how='all')\n",
    "\n",
    "# Check shape before and after\n",
    "print(\"Original DataFrame shape:\", df2018.shape)\n",
    "print(\"Cleaned DataFrame shape:\", df2018_cleaned.shape)\n"
   ]
  },
  {
   "cell_type": "code",
   "execution_count": null,
   "metadata": {
    "colab": {
     "base_uri": "https://localhost:8080/"
    },
    "executionInfo": {
     "elapsed": 23,
     "status": "ok",
     "timestamp": 1748544327364,
     "user": {
      "displayName": "Mohamedashraf Elgazar",
      "userId": "00875518360043549608"
     },
     "user_tz": -180
    },
    "id": "XGmAv0B73_YL",
    "outputId": "8734ebbb-3bd4-4541-b88e-8b25c15d109a"
   },
   "outputs": [
    {
     "name": "stdout",
     "output_type": "stream",
     "text": [
      "Number of duplicate rows: 0\n"
     ]
    }
   ],
   "source": [
    "duplicate_count = df2018_cleaned.duplicated().sum()\n",
    "\n",
    "print(f\"Number of duplicate rows: {duplicate_count}\")"
   ]
  },
  {
   "cell_type": "code",
   "execution_count": null,
   "metadata": {
    "id": "c77hCaqV4OG3"
   },
   "outputs": [],
   "source": [
    "#remove unecessary coulumn\n",
    "df2018_cleaned = df2018_cleaned.loc[:, ~df2018_cleaned.columns.str.contains('^Unnamed')]"
   ]
  },
  {
   "cell_type": "code",
   "execution_count": null,
   "metadata": {
    "colab": {
     "base_uri": "https://localhost:8080/"
    },
    "executionInfo": {
     "elapsed": 21,
     "status": "ok",
     "timestamp": 1748544328622,
     "user": {
      "displayName": "Mohamedashraf Elgazar",
      "userId": "00875518360043549608"
     },
     "user_tz": -180
    },
    "id": "kjI0CYs04cR5",
    "outputId": "036911c6-a3a5-416d-cc20-2e25d638db69"
   },
   "outputs": [
    {
     "name": "stdout",
     "output_type": "stream",
     "text": [
      "<class 'pandas.core.frame.DataFrame'>\n",
      "RangeIndex: 765 entries, 0 to 764\n",
      "Data columns (total 16 columns):\n",
      " #   Column                   Non-Null Count  Dtype  \n",
      "---  ------                   --------------  -----  \n",
      " 0   Timestamp                765 non-null    object \n",
      " 1   Age                      672 non-null    float64\n",
      " 2   Gender                   751 non-null    object \n",
      " 3   City                     736 non-null    object \n",
      " 4   Position                 737 non-null    object \n",
      " 5   Years of experience      732 non-null    float64\n",
      " 6   Seniority level          743 non-null    object \n",
      " 7   main technology          753 non-null    object \n",
      " 8   Yearly salary            750 non-null    float64\n",
      " 9   Yearly bonus             392 non-null    float64\n",
      " 10  Number of vacation days  720 non-null    float64\n",
      " 11  Main language at work    750 non-null    object \n",
      " 12  Company type             730 non-null    object \n",
      " 13  Contract duration        737 non-null    object \n",
      " 14  Employment status        758 non-null    object \n",
      " 15  Company business sector  649 non-null    object \n",
      "dtypes: float64(5), object(11)\n",
      "memory usage: 95.8+ KB\n"
     ]
    }
   ],
   "source": [
    "df2018_cleaned.info()"
   ]
  },
  {
   "cell_type": "code",
   "execution_count": null,
   "metadata": {
    "id": "XTSdLEOx4iHd"
   },
   "outputs": [],
   "source": [
    "# Step 1: Convert Timestamp to datetime\n",
    "df2018_cleaned['Timestamp'] = pd.to_datetime(df2018_cleaned['Timestamp'], errors='coerce')\n",
    "\n",
    "# Step 2: Extract date only and format as DD/MM/YYYY\n",
    "df2018_cleaned['Timestamp'] = df2018_cleaned['Timestamp'].dt.strftime('%m/%d/%Y')"
   ]
  },
  {
   "cell_type": "code",
   "execution_count": null,
   "metadata": {
    "colab": {
     "base_uri": "https://localhost:8080/"
    },
    "executionInfo": {
     "elapsed": 24,
     "status": "ok",
     "timestamp": 1748544331299,
     "user": {
      "displayName": "Mohamedashraf Elgazar",
      "userId": "00875518360043549608"
     },
     "user_tz": -180
    },
    "id": "XsitEV5W5H0t",
    "outputId": "a10cba4d-5ae4-43de-c6d4-bc4334cf7acc"
   },
   "outputs": [
    {
     "name": "stdout",
     "output_type": "stream",
     "text": [
      "Number of null values in 'Age' column: 93\n"
     ]
    }
   ],
   "source": [
    "# null values in the 'Age' column\n",
    "null_count = df2018_cleaned['Age'].isnull().sum()\n",
    "print(f\"Number of null values in 'Age' column: {null_count}\")"
   ]
  },
  {
   "cell_type": "code",
   "execution_count": null,
   "metadata": {
    "colab": {
     "base_uri": "https://localhost:8080/"
    },
    "executionInfo": {
     "elapsed": 6,
     "status": "ok",
     "timestamp": 1748544332425,
     "user": {
      "displayName": "Mohamedashraf Elgazar",
      "userId": "00875518360043549608"
     },
     "user_tz": -180
    },
    "id": "p8qeZDNuJUKf",
    "outputId": "8ff4b84e-c0ad-42e4-f667-0afc98d86e51"
   },
   "outputs": [
    {
     "name": "stdout",
     "output_type": "stream",
     "text": [
      "<class 'pandas.core.frame.DataFrame'>\n",
      "RangeIndex: 765 entries, 0 to 764\n",
      "Data columns (total 16 columns):\n",
      " #   Column                   Non-Null Count  Dtype  \n",
      "---  ------                   --------------  -----  \n",
      " 0   Timestamp                765 non-null    object \n",
      " 1   Age                      672 non-null    float64\n",
      " 2   Gender                   751 non-null    object \n",
      " 3   City                     736 non-null    object \n",
      " 4   Position                 737 non-null    object \n",
      " 5   Years of experience      732 non-null    float64\n",
      " 6   Seniority level          743 non-null    object \n",
      " 7   main technology          753 non-null    object \n",
      " 8   Yearly salary            750 non-null    float64\n",
      " 9   Yearly bonus             392 non-null    float64\n",
      " 10  Number of vacation days  720 non-null    float64\n",
      " 11  Main language at work    750 non-null    object \n",
      " 12  Company type             730 non-null    object \n",
      " 13  Contract duration        737 non-null    object \n",
      " 14  Employment status        758 non-null    object \n",
      " 15  Company business sector  649 non-null    object \n",
      "dtypes: float64(5), object(11)\n",
      "memory usage: 95.8+ KB\n"
     ]
    }
   ],
   "source": [
    "df2018_cleaned.info()"
   ]
  },
  {
   "cell_type": "code",
   "execution_count": null,
   "metadata": {
    "colab": {
     "base_uri": "https://localhost:8080/"
    },
    "executionInfo": {
     "elapsed": 24,
     "status": "ok",
     "timestamp": 1748544333511,
     "user": {
      "displayName": "Mohamedashraf Elgazar",
      "userId": "00875518360043549608"
     },
     "user_tz": -180
    },
    "id": "4mbYkk05HSGK",
    "outputId": "0aa10afb-9c31-423f-9c8e-7567b0f9810c"
   },
   "outputs": [
    {
     "data": {
      "text/plain": [
       "np.float64(32.52579852579853)"
      ]
     },
     "execution_count": 431,
     "metadata": {},
     "output_type": "execute_result"
    }
   ],
   "source": [
    "# get average of ages and replace with it nulls\n",
    "\n",
    "import math\n",
    "\n",
    "average_age2018 = df2018_cleaned['Age'].mean()\n",
    "\n",
    "average_age"
   ]
  },
  {
   "cell_type": "code",
   "execution_count": null,
   "metadata": {
    "colab": {
     "base_uri": "https://localhost:8080/"
    },
    "executionInfo": {
     "elapsed": 24,
     "status": "ok",
     "timestamp": 1748544334033,
     "user": {
      "displayName": "Mohamedashraf Elgazar",
      "userId": "00875518360043549608"
     },
     "user_tz": -180
    },
    "id": "-HCM025xHsGn",
    "outputId": "9513aaef-1243-4d69-8229-a3b2fdc4a528"
   },
   "outputs": [
    {
     "name": "stdout",
     "output_type": "stream",
     "text": [
      "Rounded Average Age: 32\n"
     ]
    }
   ],
   "source": [
    "# Always round up if .5 or more\n",
    "rounded_age = math.ceil(average_age2018) if (average_age2018 - math.floor(average_age2018)) >= 0.5 else math.floor(average_age2018)\n",
    "\n",
    "print(f\"Rounded Average Age: {rounded_age}\")"
   ]
  },
  {
   "cell_type": "code",
   "execution_count": null,
   "metadata": {
    "colab": {
     "base_uri": "https://localhost:8080/"
    },
    "executionInfo": {
     "elapsed": 23,
     "status": "ok",
     "timestamp": 1748544334844,
     "user": {
      "displayName": "Mohamedashraf Elgazar",
      "userId": "00875518360043549608"
     },
     "user_tz": -180
    },
    "id": "Ph8l6dXLH4Mf",
    "outputId": "e60313be-6b5f-4390-c169-b844ba1e716a"
   },
   "outputs": [
    {
     "name": "stdout",
     "output_type": "stream",
     "text": [
      "Number of nulls in 'Age' after filling: 0\n"
     ]
    }
   ],
   "source": [
    "# Fill nulls in 'Age' column with the average age\n",
    "df2018_cleaned['Age'] = df2018_cleaned['Age'].fillna(rounded_age)\n",
    "\n",
    "# Confirm there are no more nulls\n",
    "null_count = df2018_cleaned['Age'].isnull().sum()\n",
    "print(f\"Number of nulls in 'Age' after filling: {null_count}\")"
   ]
  },
  {
   "cell_type": "code",
   "execution_count": null,
   "metadata": {
    "colab": {
     "base_uri": "https://localhost:8080/"
    },
    "executionInfo": {
     "elapsed": 6,
     "status": "ok",
     "timestamp": 1748544335853,
     "user": {
      "displayName": "Mohamedashraf Elgazar",
      "userId": "00875518360043549608"
     },
     "user_tz": -180
    },
    "id": "o5wXWDTJH_Ea",
    "outputId": "a27b19e7-5bca-4293-ce9b-b9e27b860858"
   },
   "outputs": [
    {
     "name": "stdout",
     "output_type": "stream",
     "text": [
      "Number of null values in 'Gendere' column: 14\n"
     ]
    }
   ],
   "source": [
    "# i want to know how null Genders have\n",
    "null_count = df2018_cleaned['Gender'].isnull().sum()\n",
    "print(f\"Number of null values in 'Gendere' column: {null_count}\")"
   ]
  },
  {
   "cell_type": "code",
   "execution_count": null,
   "metadata": {
    "colab": {
     "base_uri": "https://localhost:8080/"
    },
    "executionInfo": {
     "elapsed": 6,
     "status": "ok",
     "timestamp": 1748544337081,
     "user": {
      "displayName": "Mohamedashraf Elgazar",
      "userId": "00875518360043549608"
     },
     "user_tz": -180
    },
    "id": "YFdE51msIF2e",
    "outputId": "683af4bc-141c-4ef9-f640-87f27cbfb524"
   },
   "outputs": [
    {
     "name": "stdout",
     "output_type": "stream",
     "text": [
      "<class 'pandas.core.frame.DataFrame'>\n",
      "RangeIndex: 765 entries, 0 to 764\n",
      "Data columns (total 16 columns):\n",
      " #   Column                   Non-Null Count  Dtype  \n",
      "---  ------                   --------------  -----  \n",
      " 0   Timestamp                765 non-null    object \n",
      " 1   Age                      765 non-null    float64\n",
      " 2   Gender                   751 non-null    object \n",
      " 3   City                     736 non-null    object \n",
      " 4   Position                 737 non-null    object \n",
      " 5   Years of experience      732 non-null    float64\n",
      " 6   Seniority level          743 non-null    object \n",
      " 7   main technology          753 non-null    object \n",
      " 8   Yearly salary            750 non-null    float64\n",
      " 9   Yearly bonus             392 non-null    float64\n",
      " 10  Number of vacation days  720 non-null    float64\n",
      " 11  Main language at work    750 non-null    object \n",
      " 12  Company type             730 non-null    object \n",
      " 13  Contract duration        737 non-null    object \n",
      " 14  Employment status        758 non-null    object \n",
      " 15  Company business sector  649 non-null    object \n",
      "dtypes: float64(5), object(11)\n",
      "memory usage: 95.8+ KB\n"
     ]
    }
   ],
   "source": [
    "df2018_cleaned.info()"
   ]
  },
  {
   "cell_type": "code",
   "execution_count": null,
   "metadata": {
    "id": "fHHPyQWDI7vW"
   },
   "outputs": [],
   "source": [
    "df2018_cleaned['Gender'] = df2020_cleaned['Gender'].fillna('Other')"
   ]
  },
  {
   "cell_type": "code",
   "execution_count": null,
   "metadata": {
    "id": "jg0SAkEZK0qL"
   },
   "outputs": [],
   "source": [
    "df2018_cleaned['Position'] = df2020_cleaned['Position'].fillna('Other')"
   ]
  },
  {
   "cell_type": "code",
   "execution_count": null,
   "metadata": {
    "id": "UEvThmqBK7O7"
   },
   "outputs": [],
   "source": [
    "df2018_cleaned['Seniority level'] = df2018_cleaned['Seniority level'].fillna('No data')"
   ]
  },
  {
   "cell_type": "code",
   "execution_count": null,
   "metadata": {
    "id": "O8GyZO96LDVC"
   },
   "outputs": [],
   "source": [
    "df2018_cleaned['main technology'] = df2018_cleaned['main technology'].fillna('No data')"
   ]
  },
  {
   "cell_type": "code",
   "execution_count": null,
   "metadata": {
    "colab": {
     "base_uri": "https://localhost:8080/"
    },
    "executionInfo": {
     "elapsed": 25,
     "status": "ok",
     "timestamp": 1748544342697,
     "user": {
      "displayName": "Mohamedashraf Elgazar",
      "userId": "00875518360043549608"
     },
     "user_tz": -180
    },
    "id": "n6ghw1SBLHju",
    "outputId": "ed9a3a43-e94a-4270-f6e9-03767360d690"
   },
   "outputs": [
    {
     "name": "stdout",
     "output_type": "stream",
     "text": [
      "<class 'pandas.core.frame.DataFrame'>\n",
      "RangeIndex: 765 entries, 0 to 764\n",
      "Data columns (total 16 columns):\n",
      " #   Column                   Non-Null Count  Dtype  \n",
      "---  ------                   --------------  -----  \n",
      " 0   Timestamp                765 non-null    object \n",
      " 1   Age                      765 non-null    float64\n",
      " 2   Gender                   765 non-null    object \n",
      " 3   City                     736 non-null    object \n",
      " 4   Position                 765 non-null    object \n",
      " 5   Years of experience      732 non-null    float64\n",
      " 6   Seniority level          765 non-null    object \n",
      " 7   main technology          765 non-null    object \n",
      " 8   Yearly salary            750 non-null    float64\n",
      " 9   Yearly bonus             392 non-null    float64\n",
      " 10  Number of vacation days  720 non-null    float64\n",
      " 11  Main language at work    750 non-null    object \n",
      " 12  Company type             730 non-null    object \n",
      " 13  Contract duration        737 non-null    object \n",
      " 14  Employment status        758 non-null    object \n",
      " 15  Company business sector  649 non-null    object \n",
      "dtypes: float64(5), object(11)\n",
      "memory usage: 95.8+ KB\n"
     ]
    }
   ],
   "source": [
    "df2018_cleaned.info()"
   ]
  },
  {
   "cell_type": "code",
   "execution_count": null,
   "metadata": {
    "id": "zXYPTYJnLVwg"
   },
   "outputs": [],
   "source": [
    "df2018_cleaned['City'] = df2018_cleaned['City'].fillna('No data')"
   ]
  },
  {
   "cell_type": "code",
   "execution_count": null,
   "metadata": {
    "colab": {
     "base_uri": "https://localhost:8080/"
    },
    "executionInfo": {
     "elapsed": 67,
     "status": "ok",
     "timestamp": 1748544351986,
     "user": {
      "displayName": "Mohamedashraf Elgazar",
      "userId": "00875518360043549608"
     },
     "user_tz": -180
    },
    "id": "OHBbSMglQJy0",
    "outputId": "ffe0d495-7eb2-4cff-9c8f-872c5350b3cc"
   },
   "outputs": [
    {
     "name": "stdout",
     "output_type": "stream",
     "text": [
      "['Munich' 'Berlin' 'Hamburg' 'Wolfsburg' 'Stuttgart' 'Schleswig-Holstein'\n",
      " 'London' 'Konstanz area' 'Frankfurt' 'Cologne' 'Kempten' 'Münster'\n",
      " 'Erlangen' 'Vienna' 'Moldova' 'Rosenheim' 'Mannheim ' 'Boeblingen'\n",
      " 'Düsseldorf' 'Ingolstadt' 'Nürnberg' 'Ansbach' 'Leipzig' 'Mannheim'\n",
      " 'Tuttlingen' 'Bonn' 'Moscow' 'Koblenz' 'Warsaw' 'Heidelberg' 'Karlsruhe'\n",
      " 'Köln' 'Aachen' 'Karlsruhe ' 'Samara' 'Riga, Latvia' 'Dusseldorf'\n",
      " 'Zurich' 'Helsinki' 'Würzburg' 'Kiev' 'Den Haag' 'Amsterdam' 'Cracovia'\n",
      " 'Tallinn' 'Prague' 'Utrecht' 'Stockholm' 'Braunschweig ' 'Dresden' 'Kyiv'\n",
      " 'Stuttgart ' 'Malta' 'Lübeck' 'Nuremberg ' 'Bodensee' 'Milan' 'Salzburg'\n",
      " 'Rome' 'Wroclaw' 'Cupertino' 'Paris' 'Dublin ' 'Paderborn' 'Konstanz'\n",
      " 'Ulm' 'Düsseldorf ' 'Barcelona' 'Bölingen' 'Tampere (Finland)' 'Hannover'\n",
      " 'Bucharest' 'Siegen' 'Minsk' 'Nuremberg' 'Marseille' 'Friedrichshafen'\n",
      " 'Walldorf' 'Eindhoven' 'France' 'Regensburg' 'Warsaw, Poland' 'Heilbronn'\n",
      " 'Dortmund' 'Jena' 'City in Russia' 'Cracow' 'Brunswick' 'Dublin' 'Madrid'\n",
      " 'Lisbon' 'Sofia' 'Luttich' 'Milano' 'Bielefeld' 'Basel' 'NJ, USA'\n",
      " 'Istanbul' 'warsaw' 'Hildesheim' 'Heidelberg ' 'Murnau am Staffelsee '\n",
      " 'Zürich' 'Innsbruck' 'Brussels ' 'Hildesheim ' 'Prefer not to say'\n",
      " 'Dusseldurf' 'Fr' 'Darmstadt' 'Duesseldorf' 'Cambridge' 'Brussels'\n",
      " 'Copenhagen' 'Sevilla' 'Krakow' 'Ingolstadt ' 'Saint-Petersburg'\n",
      " 'Saarbrücken' nan]\n"
     ]
    }
   ],
   "source": [
    "# Replace 'MÃ¼nchen' with 'München' in the 'City' column\n",
    "df2018_cleaned['City'] = df2018_cleaned['City'].replace('MÃ¼nchen', 'München')\n",
    "\n",
    "# Optional: Check unique values to confirm replacement\n",
    "print(df2020['City'].unique())"
   ]
  },
  {
   "cell_type": "code",
   "execution_count": null,
   "metadata": {
    "colab": {
     "base_uri": "https://localhost:8080/"
    },
    "executionInfo": {
     "elapsed": 6,
     "status": "ok",
     "timestamp": 1748544352591,
     "user": {
      "displayName": "Mohamedashraf Elgazar",
      "userId": "00875518360043549608"
     },
     "user_tz": -180
    },
    "id": "8unT5MLyLby6",
    "outputId": "2aaea513-71cc-47bc-e48b-7aa8930fa4a6"
   },
   "outputs": [
    {
     "name": "stdout",
     "output_type": "stream",
     "text": [
      "Nulls in Yearly salary after filling: 0\n"
     ]
    }
   ],
   "source": [
    "# Calculate average salary\n",
    "avg_salary = df2018_cleaned['Yearly salary '].mean()\n",
    "\n",
    "# Fill nulls in 'Yearly salary' column\n",
    "df2018_cleaned['Yearly salary '] = df2018_cleaned['Yearly salary '].fillna(avg_salary)\n",
    "\n",
    "# Round if needed\n",
    "df2018_cleaned['Yearly salary '] = round(df2018_cleaned['Yearly salary '])\n",
    "\n",
    "# Confirm no more nulls\n",
    "print(\"Nulls in Yearly salary after filling:\", df2018_cleaned['Yearly salary '].isnull().sum())"
   ]
  },
  {
   "cell_type": "code",
   "execution_count": null,
   "metadata": {
    "colab": {
     "base_uri": "https://localhost:8080/"
    },
    "executionInfo": {
     "elapsed": 19,
     "status": "ok",
     "timestamp": 1748544353284,
     "user": {
      "displayName": "Mohamedashraf Elgazar",
      "userId": "00875518360043549608"
     },
     "user_tz": -180
    },
    "id": "5LPpipcULm9G",
    "outputId": "71a4511d-f4b2-4182-c7b4-669eb23a9e53"
   },
   "outputs": [
    {
     "name": "stdout",
     "output_type": "stream",
     "text": [
      "<class 'pandas.core.frame.DataFrame'>\n",
      "RangeIndex: 765 entries, 0 to 764\n",
      "Data columns (total 16 columns):\n",
      " #   Column                     Non-Null Count  Dtype  \n",
      "---  ------                     --------------  -----  \n",
      " 0   Timestamp                  765 non-null    object \n",
      " 1   Age                        765 non-null    float64\n",
      " 2   Gender                     765 non-null    object \n",
      " 3   City                       765 non-null    object \n",
      " 4   Position                   765 non-null    object \n",
      " 5   Total years of experience  732 non-null    float64\n",
      " 6   Seniority level            765 non-null    object \n",
      " 7   main technology            765 non-null    object \n",
      " 8   Yearly salary              765 non-null    float64\n",
      " 9   Yearly bonus               392 non-null    float64\n",
      " 10  Number of vacation days    720 non-null    float64\n",
      " 11  Main language at work      750 non-null    object \n",
      " 12  Company type               730 non-null    object \n",
      " 13  Contract duration          737 non-null    object \n",
      " 14  Employment status          758 non-null    object \n",
      " 15  Company business sector    649 non-null    object \n",
      "dtypes: float64(5), object(11)\n",
      "memory usage: 95.8+ KB\n"
     ]
    }
   ],
   "source": [
    "# prompt: i want to change name of column that is called Years of experience with Total years of experience\n",
    "\n",
    "df2018_cleaned = df2018_cleaned.rename(columns={'Years of experience': 'Total years of experience'})\n",
    "df2018_cleaned.info()"
   ]
  },
  {
   "cell_type": "code",
   "execution_count": null,
   "metadata": {
    "colab": {
     "base_uri": "https://localhost:8080/"
    },
    "executionInfo": {
     "elapsed": 21,
     "status": "ok",
     "timestamp": 1748544353912,
     "user": {
      "displayName": "Mohamedashraf Elgazar",
      "userId": "00875518360043549608"
     },
     "user_tz": -180
    },
    "id": "sVvWsNu6NbRk",
    "outputId": "34d05d00-b880-403b-e753-9923dce0ed60"
   },
   "outputs": [
    {
     "name": "stdout",
     "output_type": "stream",
     "text": [
      "Average years of experience: 8.548497267759563\n",
      "Rounded down value used: 8\n",
      "Nulls after filling: 0\n"
     ]
    }
   ],
   "source": [
    "import math\n",
    "\n",
    "# Step 1: Convert 'Total years of experience' to numeric\n",
    "df2018_cleaned['Total years of experience'] = pd.to_numeric(df2018_cleaned['Total years of experience'], errors='coerce')\n",
    "\n",
    "# Step 2: Calculate average (mean) of non-null values\n",
    "avg_experience = df2018_cleaned['Total years of experience'].mean()\n",
    "\n",
    "# Step 3: Round down and convert to integer\n",
    "rounded_avg_exp = math.floor(avg_experience)\n",
    "\n",
    "# Step 4: Fill nulls with rounded-down average\n",
    "df2018_cleaned['Total years of experience'] = df2018_cleaned['Total years of experience'].fillna(rounded_avg_exp)\n",
    "\n",
    "# Optional: Convert entire column to integer type\n",
    "df2018_cleaned['Total years of experience'] = df2018_cleaned['Total years of experience'].astype(int)\n",
    "\n",
    "# Step 5: Print result\n",
    "print(f\"Average years of experience: {avg_experience}\")\n",
    "print(f\"Rounded down value used: {rounded_avg_exp}\")\n",
    "print(\"Nulls after filling:\", df2018_cleaned['Total years of experience'].isnull().sum())"
   ]
  },
  {
   "cell_type": "code",
   "execution_count": null,
   "metadata": {
    "colab": {
     "base_uri": "https://localhost:8080/"
    },
    "executionInfo": {
     "elapsed": 5,
     "status": "ok",
     "timestamp": 1748544354497,
     "user": {
      "displayName": "Mohamedashraf Elgazar",
      "userId": "00875518360043549608"
     },
     "user_tz": -180
    },
    "id": "XpruPrt_OIGA",
    "outputId": "b330642f-8df1-4d75-8560-9279231b7dcd"
   },
   "outputs": [
    {
     "name": "stdout",
     "output_type": "stream",
     "text": [
      "Nulls in 'Seniority level' after replacement: 0\n"
     ]
    }
   ],
   "source": [
    "# Replace null values in 'Seniority level' column with 'No data'\n",
    "df2018_cleaned['Seniority level'] = df2018_cleaned['Seniority level'].fillna('No data')\n",
    "\n",
    "# Confirm there are no more nulls\n",
    "null_count = df2018_cleaned['Seniority level'].isnull().sum()\n",
    "print(f\"Nulls in 'Seniority level' after replacement: {null_count}\")"
   ]
  },
  {
   "cell_type": "code",
   "execution_count": null,
   "metadata": {
    "colab": {
     "base_uri": "https://localhost:8080/"
    },
    "executionInfo": {
     "elapsed": 5,
     "status": "ok",
     "timestamp": 1748544355129,
     "user": {
      "displayName": "Mohamedashraf Elgazar",
      "userId": "00875518360043549608"
     },
     "user_tz": -180
    },
    "id": "lNLrxyBZOOAq",
    "outputId": "6a8eeb76-e7ba-4038-ae8b-c6a67c15c262"
   },
   "outputs": [
    {
     "name": "stdout",
     "output_type": "stream",
     "text": [
      "Nulls in 'Seniority level' after replacement: 0\n"
     ]
    }
   ],
   "source": [
    "df2018_cleaned['main technology'] = df2018_cleaned['main technology'].fillna('No data')\n",
    "\n",
    "# Confirm there are no more nulls\n",
    "null_count = df2018_cleaned['main technology'].isnull().sum()\n",
    "print(f\"Nulls in 'Seniority level' after replacement: {null_count}\")"
   ]
  },
  {
   "cell_type": "code",
   "execution_count": null,
   "metadata": {
    "colab": {
     "base_uri": "https://localhost:8080/"
    },
    "executionInfo": {
     "elapsed": 5,
     "status": "ok",
     "timestamp": 1748544356160,
     "user": {
      "displayName": "Mohamedashraf Elgazar",
      "userId": "00875518360043549608"
     },
     "user_tz": -180
    },
    "id": "SGBFiH0FORin",
    "outputId": "15fe0538-b587-4c3b-f514-50591c86b3b6"
   },
   "outputs": [
    {
     "name": "stdout",
     "output_type": "stream",
     "text": [
      "Average Yearly Bonus: 8535\n",
      "Nulls after filling: 0\n"
     ]
    }
   ],
   "source": [
    "# Step 1: Convert 'Yearly bonus' to numeric, coerce errors to NaN\n",
    "df2018_cleaned['Yearly bonus'] = pd.to_numeric(df2018_cleaned['Yearly bonus'], errors='coerce')\n",
    "\n",
    "# Step 2: Calculate average (mean) of non-null values\n",
    "avg_bonus = df2018_cleaned['Yearly bonus'].mean()\n",
    "\n",
    "# Step 3: Fill nulls with the average and round to nearest integer\n",
    "df2018_cleaned['Yearly bonus'] = df2018_cleaned['Yearly bonus'].fillna(round(avg_bonus))\n",
    "\n",
    "# Optional: Print results\n",
    "print(f\"Average Yearly Bonus: {round(avg_bonus)}\")\n",
    "print(\"Nulls after filling:\", df2018_cleaned['Yearly bonus'].isnull().sum())"
   ]
  },
  {
   "cell_type": "code",
   "execution_count": null,
   "metadata": {
    "colab": {
     "base_uri": "https://localhost:8080/"
    },
    "executionInfo": {
     "elapsed": 27,
     "status": "ok",
     "timestamp": 1748544356695,
     "user": {
      "displayName": "Mohamedashraf Elgazar",
      "userId": "00875518360043549608"
     },
     "user_tz": -180
    },
    "id": "5iAo9Cc6OXhw",
    "outputId": "55e60391-be95-41ee-828a-99bc7e6afb4a"
   },
   "outputs": [
    {
     "name": "stdout",
     "output_type": "stream",
     "text": [
      "Nulls in 'Number of vacation days' after filling: 0\n",
      "Average number of vacation days: 28\n"
     ]
    }
   ],
   "source": [
    "# Step 1: Convert column to numeric, coerce errors to NaN\n",
    "df2018_cleaned['Number of vacation days'] = pd.to_numeric(df2018_cleaned['Number of vacation days'], errors='coerce')\n",
    "\n",
    "# Step 2: Calculate average (mean) of non-null values\n",
    "avg_vacation_days = df2018_cleaned['Number of vacation days'].mean()\n",
    "\n",
    "# Step 3: Fill nulls with the average and round to nearest integer\n",
    "df2018_cleaned['Number of vacation days'] = df2018_cleaned['Number of vacation days'].fillna(round(avg_vacation_days))\n",
    "\n",
    "# Optional: Convert to integer type\n",
    "df2018_cleaned['Number of vacation days'] = df2018_cleaned['Number of vacation days'].astype(int)\n",
    "\n",
    "# Confirm no more nulls\n",
    "null_count = df2018_cleaned['Number of vacation days'].isnull().sum()\n",
    "print(f\"Nulls in 'Number of vacation days' after filling: {null_count}\")\n",
    "print(f\"Average number of vacation days: {round(avg_vacation_days)}\")"
   ]
  },
  {
   "cell_type": "code",
   "execution_count": null,
   "metadata": {
    "colab": {
     "base_uri": "https://localhost:8080/"
    },
    "executionInfo": {
     "elapsed": 16,
     "status": "ok",
     "timestamp": 1748544357317,
     "user": {
      "displayName": "Mohamedashraf Elgazar",
      "userId": "00875518360043549608"
     },
     "user_tz": -180
    },
    "id": "p3lnLiV-Omq9",
    "outputId": "958267ea-248a-4039-e0e5-be26829814d3"
   },
   "outputs": [
    {
     "name": "stdout",
     "output_type": "stream",
     "text": [
      "<class 'pandas.core.frame.DataFrame'>\n",
      "RangeIndex: 765 entries, 0 to 764\n",
      "Data columns (total 16 columns):\n",
      " #   Column                     Non-Null Count  Dtype  \n",
      "---  ------                     --------------  -----  \n",
      " 0   Timestamp                  765 non-null    object \n",
      " 1   Age                        765 non-null    float64\n",
      " 2   Gender                     765 non-null    object \n",
      " 3   City                       765 non-null    object \n",
      " 4   Position                   765 non-null    object \n",
      " 5   Total years of experience  765 non-null    int64  \n",
      " 6   Seniority level            765 non-null    object \n",
      " 7   main technology            765 non-null    object \n",
      " 8   Yearly salary              765 non-null    float64\n",
      " 9   Yearly bonus               765 non-null    float64\n",
      " 10  Number of vacation days    765 non-null    int64  \n",
      " 11  Main language at work      750 non-null    object \n",
      " 12  Company type               730 non-null    object \n",
      " 13  Contract duration          737 non-null    object \n",
      " 14  Employment status          758 non-null    object \n",
      " 15  Company business sector    649 non-null    object \n",
      "dtypes: float64(3), int64(2), object(11)\n",
      "memory usage: 95.8+ KB\n"
     ]
    }
   ],
   "source": [
    "df2018_cleaned.info()"
   ]
  },
  {
   "cell_type": "code",
   "execution_count": null,
   "metadata": {
    "id": "k9cYcJf4Ooow"
   },
   "outputs": [],
   "source": [
    "df2018_cleaned.columns = df2018_cleaned.columns.str.strip()\n",
    "df2018_cleaned['Employment status'] = df2018_cleaned['Employment status'].fillna('No data')"
   ]
  },
  {
   "cell_type": "code",
   "execution_count": null,
   "metadata": {
    "id": "NzFMfHm3Owl3"
   },
   "outputs": [],
   "source": [
    "df2018_cleaned.columns = df2018_cleaned.columns.str.strip()\n",
    "df2018_cleaned['Contract duration'] = df2018_cleaned['Contract duration'].fillna('No data')"
   ]
  },
  {
   "cell_type": "code",
   "execution_count": null,
   "metadata": {
    "id": "1OAVKEZDO14b"
   },
   "outputs": [],
   "source": [
    "df2018_cleaned.columns = df2018_cleaned.columns.str.strip()\n",
    "df2018_cleaned['Main language at work'] = df2018_cleaned['Main language at work'].fillna('No data')"
   ]
  },
  {
   "cell_type": "code",
   "execution_count": null,
   "metadata": {
    "id": "fKPmsTgzO7tj"
   },
   "outputs": [],
   "source": [
    "df2018_cleaned.columns = df2018_cleaned.columns.str.strip()\n",
    "df2018_cleaned['Company type'] = df2018_cleaned['Company type'].fillna('No data')"
   ]
  },
  {
   "cell_type": "code",
   "execution_count": null,
   "metadata": {
    "colab": {
     "base_uri": "https://localhost:8080/"
    },
    "executionInfo": {
     "elapsed": 21,
     "status": "ok",
     "timestamp": 1748544361207,
     "user": {
      "displayName": "Mohamedashraf Elgazar",
      "userId": "00875518360043549608"
     },
     "user_tz": -180
    },
    "id": "yo3STGKSO6JR",
    "outputId": "2c5abd7d-b1c4-45b8-e90e-bfe9d5b9b48d"
   },
   "outputs": [
    {
     "name": "stdout",
     "output_type": "stream",
     "text": [
      "Nulls in 'Company business sector' after replacement: 0\n"
     ]
    }
   ],
   "source": [
    "# Replace null values in 'Company business sector' column with 'Сommerce'\n",
    "df2018_cleaned['Company business sector'] = df2018_cleaned['Company business sector'].fillna('Сommerce')\n",
    "\n",
    "# Confirm there are no more nulls\n",
    "null_count = df2018_cleaned['Company business sector'].isnull().sum()\n",
    "print(f\"Nulls in 'Company business sector' after replacement: {null_count}\")"
   ]
  },
  {
   "cell_type": "code",
   "execution_count": null,
   "metadata": {
    "colab": {
     "base_uri": "https://localhost:8080/"
    },
    "executionInfo": {
     "elapsed": 44,
     "status": "ok",
     "timestamp": 1748544363286,
     "user": {
      "displayName": "Mohamedashraf Elgazar",
      "userId": "00875518360043549608"
     },
     "user_tz": -180
    },
    "id": "afIGd9s7PNJu",
    "outputId": "4a4ce4b1-be6a-4225-9666-1cc419c86112"
   },
   "outputs": [
    {
     "name": "stdout",
     "output_type": "stream",
     "text": [
      "<class 'pandas.core.frame.DataFrame'>\n",
      "RangeIndex: 765 entries, 0 to 764\n",
      "Data columns (total 16 columns):\n",
      " #   Column                     Non-Null Count  Dtype  \n",
      "---  ------                     --------------  -----  \n",
      " 0   Timestamp                  765 non-null    object \n",
      " 1   Age                        765 non-null    float64\n",
      " 2   Gender                     765 non-null    object \n",
      " 3   City                       765 non-null    object \n",
      " 4   Position                   765 non-null    object \n",
      " 5   Total years of experience  765 non-null    int64  \n",
      " 6   Seniority level            765 non-null    object \n",
      " 7   main technology            765 non-null    object \n",
      " 8   Yearly salary              765 non-null    float64\n",
      " 9   Yearly bonus               765 non-null    float64\n",
      " 10  Number of vacation days    765 non-null    int64  \n",
      " 11  Main language at work      765 non-null    object \n",
      " 12  Company type               765 non-null    object \n",
      " 13  Contract duration          765 non-null    object \n",
      " 14  Employment status          765 non-null    object \n",
      " 15  Company business sector    765 non-null    object \n",
      "dtypes: float64(3), int64(2), object(11)\n",
      "memory usage: 95.8+ KB\n"
     ]
    }
   ],
   "source": [
    "df2018_cleaned.info()"
   ]
  },
  {
   "cell_type": "code",
   "execution_count": null,
   "metadata": {
    "id": "X3-nircxPSHT"
   },
   "outputs": [],
   "source": [
    "# Save the cleaned DataFrame to a CSV file\n",
    "df2018_cleaned.to_csv('IT_Salary_Survey_EU_2018_Cleaned.csv', index=False)\n",
    "\n"
   ]
  },
  {
   "cell_type": "code",
   "execution_count": null,
   "metadata": {
    "colab": {
     "base_uri": "https://localhost:8080/"
    },
    "executionInfo": {
     "elapsed": 17,
     "status": "ok",
     "timestamp": 1748544366019,
     "user": {
      "displayName": "Mohamedashraf Elgazar",
      "userId": "00875518360043549608"
     },
     "user_tz": -180
    },
    "id": "oU7EL2IqPYht",
    "outputId": "18c16e66-ea41-4d14-d6c9-cce14dd4616c"
   },
   "outputs": [
    {
     "name": "stdout",
     "output_type": "stream",
     "text": [
      "['München' 'Berlin' 'Karlsruhe' 'Hamburg' 'Augsburg ' 'Bremen' 'Frankfurt'\n",
      " 'No data' 'Regensburg' 'Lisbon' 'Leipzig' 'Stuttgart' 'Amsterdam'\n",
      " 'Luxembourg' 'Bern' 'Bonn' 'Köln' 'Baden-Württemberg ' 'Frankonia'\n",
      " 'Stuttgart ' 'Mannheim ' 'Bayern' 'Tübingen' 'Brno' 'Dresden' 'Krakow'\n",
      " 'Dublin' 'Eindhoven' 'Amsterdam ' 'Konstanz' 'Dublin ' 'Prague' 'Moscow'\n",
      " 'Stockholm' 'Belgrade, Serbia' 'Kyiv' 'Nürnberg' 'Karlskrona' 'Krakau'\n",
      " 'Vienna' 'London' 'Bitburg' 'Gdansk' 'Poland' 'Düsseldorf' 'Ludwigsburg'\n",
      " 'Essen' 'Strasbourg' 'Alicante, Spain' 'Warsaw' 'Memmingen' 'Tallinn'\n",
      " 'Zurich' 'oslo' 'Münster' 'Hildesheim' 'Krakow, Poland' 'Rosenheim'\n",
      " 'Darmstadt' 'bremen' 'Brussels' 'Nürnberg ' 'Schleswig-Holstein' 'Riga'\n",
      " 'Koblenz' 'homeoffice' 'Limassol' 'saint petersburg' 'Erlangen' 'Siegen'\n",
      " 'Remote Germany' 'Ireland, Dublin' 'Oberhausen' 'estonia' 'Andernach']\n"
     ]
    }
   ],
   "source": [
    "# Replace 'MÃ¼nchen' with 'München' in the 'City' column\n",
    "df2018_cleaned['City'] = df2018_cleaned['City'].replace('MÃ¼nchen', 'München')\n",
    "\n",
    "# Optional: Check unique values to confirm replacement\n",
    "print(df2018_cleaned['City'].unique())"
   ]
  },
  {
   "cell_type": "code",
   "execution_count": null,
   "metadata": {
    "colab": {
     "base_uri": "https://localhost:8080/"
    },
    "executionInfo": {
     "elapsed": 68,
     "status": "ok",
     "timestamp": 1748550292301,
     "user": {
      "displayName": "Mohamedashraf Elgazar",
      "userId": "00875518360043549608"
     },
     "user_tz": -180
    },
    "id": "Qq-PgschR2uv",
    "outputId": "8b119e23-9258-40e5-c7f3-faafd67d28fb"
   },
   "outputs": [
    {
     "name": "stdout",
     "output_type": "stream",
     "text": [
      "✅ Files merged successfully!\n",
      "Saved as: merged_output.csv\n"
     ]
    }
   ],
   "source": [
    "import pandas as pd\n",
    "\n",
    "# Step 1: Define file paths\n",
    "file1 = '/content/IT_Salary_Survey_EU_2018_Cleaned.csv'   # Replace with your first file path\n",
    "file2 = '/content/IT_Salary_Survey_EU_2020_Cleaned.csv'   # Replace with your second file path\n",
    "output_file = 'merged_output.csv'\n",
    "\n",
    "# Step 2: Read both CSV files\n",
    "df1 = pd.read_csv(file1, on_bad_lines='skip', encoding='latin1')\n",
    "df2 = pd.read_csv(file2, on_bad_lines='skip', encoding='latin1')\n",
    "\n",
    "# Step 3: Concatenate (append) the two DataFrames\n",
    "combined_df = pd.concat([df1, df2], ignore_index=True)\n",
    "\n",
    "# Step 4: Save the merged DataFrame to a new CSV file\n",
    "combined_df.to_csv(output_file, index=False)\n",
    "\n",
    "print(\"✅ Files merged successfully!\")\n",
    "print(f\"Saved as: {output_file}\")"
   ]
  }
 ],
 "metadata": {
  "colab": {
   "authorship_tag": "ABX9TyPYMeDvfpLyEmkwVMFgyd0O",
   "provenance": []
  },
  "kernelspec": {
   "display_name": "Python 3",
   "name": "python3"
  },
  "language_info": {
   "name": "python"
  }
 },
 "nbformat": 4,
 "nbformat_minor": 0
}
